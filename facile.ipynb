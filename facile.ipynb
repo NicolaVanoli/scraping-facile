{
 "cells": [
  {
   "cell_type": "code",
   "execution_count": 1,
   "metadata": {},
   "outputs": [],
   "source": [
    "from selenium import webdriver\n",
    "from selenium.webdriver.common.keys import Keys\n",
    "from selenium.webdriver.chrome.options import Options\n",
    "from bs4 import BeautifulSoup\n",
    "import time\n",
    "from selenium import webdriver\n",
    "from selenium.webdriver.common.keys import Keys\n",
    "from selenium.webdriver.chrome.options import Options\n",
    "from selenium.webdriver.support.ui import WebDriverWait\n",
    "from selenium.webdriver.support import expected_conditions as EC\n",
    "from selenium.webdriver.common.by import By\n",
    "import time\n",
    "from selenium.webdriver.support.ui import Select\n",
    "from selenium.webdriver.common.action_chains import ActionChains\n",
    "import random\n",
    "# URL of the page\n",
    "url = \"https://www.facile.it/assicurazioni-auto/preventivo.html\"\n",
    "# url = \"http://www.facile.it\"\n",
    "# Set up the Chrome driver (you need to download the ChromeDriver executable)\n",
    "options = Options()\n",
    "\n",
    "# options.add_argument(\"--headless\")\n",
    "options.add_argument(\"--disable-logging\")\n",
    "options.add_argument('--allow-running-insecure-content')\n",
    "options.add_argument(f'--load-extension={\"C:/Users/nicol/Downloads/www.facile.it.crt\"}')\n",
    "options.add_argument(f'Referer: {\"https://www.facile.it/assicurazioni-auto/preventivo_2.html\"}')\n",
    "\n",
    "options.add_argument('--disable-application-cache')\n",
    "options.add_argument('--disk-cache-size=1')\n",
    "options.add_argument('--media-cache-size=1')\n",
    "options.add_argument('--disable-browser-side-navigation')\n",
    "options.add_argument(\"--disable-blink-features=AutomationControlled\")\n",
    "options.add_argument(\"--disable-extensions\")\n",
    "options.add_argument(\"--disable-gpu\")\n",
    "options.add_argument(\"--disable-dev-shm-usage\")\n",
    "\n",
    "# options.add_argument(\"--proxy-server=http://your-proxy-server:123\")\n",
    "# Create a new instance of the Chrome driver\n",
    "driver = webdriver.Chrome(options=options)\n",
    "# Open the URL in the browser\n",
    "driver.get(url)"
   ]
  },
  {
   "cell_type": "code",
   "execution_count": 2,
   "metadata": {},
   "outputs": [],
   "source": [
    "payload ={\n",
    "    \"gender\" : \"Maschio\",\n",
    "    \"birth_date\": \"07/07/1960\",\n",
    "    \"birth_town\": \"Montichiari\",\n",
    "    \"married\": \"S\",\n",
    "    \"study_title\": \"bachelorDegree\", #available options [\"bachelorDegree\", \"masterDegree\", \"highSchool\", \"secondarySchool\", \"primarySchool\", \"none\"]\n",
    "    \"job\": \"employee\",\n",
    "    \"plate_number\": 'FW085TZ',\n",
    "    \"purchase_year\": \"2019\",\n",
    "    \"name\": \"Germana\",\n",
    "    \"surname\": \"Tognon\",\n",
    "    \"living_town\": \"Montichiari\",\n",
    "    \"address\": \"Via XXV Aprile\",\n",
    "    \"civic_number\": \"132\",\n",
    "    \"email\":\"abrjhkhjukasa@gmail.com\",\n",
    "    \"phone\": \"3398219745\",\n",
    "    \"unsuspended_license\" : \"S\"\n",
    "\n",
    "    \n",
    "}"
   ]
  },
  {
   "cell_type": "code",
   "execution_count": 3,
   "metadata": {},
   "outputs": [],
   "source": [
    "def random_delay_wrapper(func):\n",
    "    def wrapper(*args, **kwargs):\n",
    "\n",
    "        delay = random.uniform(.5, 3)\n",
    "        time.sleep(delay)\n",
    "        \n",
    "        result = func(*args, **kwargs)\n",
    "        return result\n",
    "    \n",
    "    return wrapper"
   ]
  },
  {
   "cell_type": "code",
   "execution_count": 4,
   "metadata": {},
   "outputs": [],
   "source": [
    "@random_delay_wrapper\n",
    "def write_box(id_name: str, value: str, suggestion: bool =False):\n",
    "    box_name = WebDriverWait(driver, 10).until(\n",
    "        EC.presence_of_element_located((By.NAME, id_name))\n",
    "    )\n",
    "    box_name.clear()\n",
    "    for char in value:\n",
    "        box_name.send_keys(char)\n",
    "        time.sleep(random.uniform(0.1, 0.3))\n",
    "    if suggestion:\n",
    "        time.sleep(random.uniform(0.5, 2))\n",
    "        wait = WebDriverWait(driver, 3)\n",
    "\n",
    "        first_suggestion = wait.until(\n",
    "            EC.visibility_of_element_located((By.XPATH, '//div[@data-i=\"Autocomplete\"]//div[contains(@class, \"_1msz7s34\")]/div[1]'))\n",
    "        )\n",
    "\n",
    "        # Click the first suggestion\n",
    "        first_suggestion.click()\n",
    "        # suggestions = WebDriverWait(driver, 10).until(\n",
    "        #     EC.presence_of_all_elements_located((By.CSS_SELECTOR, \".autocomplete-suggestions div\"))\n",
    "        # )\n",
    "        # if suggestions:\n",
    "        #     first_suggestion = suggestions[0]\n",
    "        #     first_suggestion.click()\n",
    "\n",
    "@random_delay_wrapper\n",
    "def booelan_check_box(id_name: str, value: str):\n",
    "    box_name = WebDriverWait(driver, 10).until(\n",
    "        EC.presence_of_element_located((By.XPATH, f\"//label[@for='{id_name}_{value}']\"))\n",
    "    )\n",
    "    box_name.click()\n",
    "\n",
    "@random_delay_wrapper\n",
    "def select_box_by_index(id_name: str, index: int):\n",
    "    dropdown = WebDriverWait(driver, 10).until(\n",
    "        EC.presence_of_element_located((By.ID, id_name))\n",
    "    )\n",
    "\n",
    "    select_index = Select(dropdown)\n",
    "    select_index.select_by_index(index)\n",
    "\n",
    "@random_delay_wrapper\n",
    "def click_button(element_name:str):\n",
    "    time.sleep(random.uniform(0.5, 2))\n",
    "    driver.execute_script(f\"document.getElementById('{element_name}').click();\")"
   ]
  },
  {
   "cell_type": "markdown",
   "metadata": {},
   "source": [
    "# Cooking starts here"
   ]
  },
  {
   "cell_type": "code",
   "execution_count": 5,
   "metadata": {},
   "outputs": [],
   "source": [
    "cookie_button =WebDriverWait(driver, 10).until(\n",
    "    EC.presence_of_element_located((By.XPATH, \"//button[contains(text(), 'Continua senza accettare')]\"))\n",
    ")\n",
    "cookie_button.click()"
   ]
  },
  {
   "cell_type": "code",
   "execution_count": 6,
   "metadata": {},
   "outputs": [],
   "source": [
    "for radio_button in driver.find_elements(By.NAME, 'personType'):\n",
    "    if radio_button.find_element(By.XPATH, './following-sibling::span').text == payload['gender']:\n",
    "        driver.execute_script(\"arguments[0].click();\", radio_button)\n",
    "        break\n"
   ]
  },
  {
   "cell_type": "code",
   "execution_count": 7,
   "metadata": {},
   "outputs": [],
   "source": [
    "write_box(\"birthDate\", payload[\"birth_date\"])\n",
    "write_box(\"city\",payload[\"birth_town\"], suggestion=True)\n",
    "for radio_button in driver.find_elements(By.NAME, 'marriedStatus'):\n",
    "    if radio_button.find_element(By.XPATH, './following-sibling::span').text == payload['married']:\n",
    "        driver.execute_script(\"arguments[0].click();\", radio_button)\n",
    "        break"
   ]
  },
  {
   "cell_type": "code",
   "execution_count": 8,
   "metadata": {},
   "outputs": [],
   "source": [
    "time.sleep(random.uniform(0.5, 2))\n",
    "dropdown = driver.find_element(By.NAME, 'educationalQualification')\n",
    "Select(dropdown).select_by_value(payload['study_title'])\n",
    "\n",
    "time.sleep(random.uniform(0.5, 2))\n",
    "dropdown = driver.find_element(By.NAME, 'occupation')\n",
    "Select(dropdown).select_by_value(payload['job'])\n"
   ]
  },
  {
   "cell_type": "code",
   "execution_count": 9,
   "metadata": {},
   "outputs": [],
   "source": [
    "element = driver.find_element(By.NAME, 'drivingLicenseYear')\n",
    "element.send_keys('1978')"
   ]
  },
  {
   "cell_type": "code",
   "execution_count": 10,
   "metadata": {},
   "outputs": [],
   "source": [
    "driver.find_element(By.XPATH, \"//button[@type='submit' and contains(@class, '_9h7zb28')]\").click()"
   ]
  },
  {
   "cell_type": "markdown",
   "metadata": {},
   "source": [
    "# First Page Done"
   ]
  },
  {
   "cell_type": "code",
   "execution_count": null,
   "metadata": {},
   "outputs": [],
   "source": [
    "time.sleep(random.uniform(2, 3))\n",
    "driver.get(driver.current_url)"
   ]
  },
  {
   "cell_type": "code",
   "execution_count": null,
   "metadata": {},
   "outputs": [],
   "source": [
    "write_box(\"ASF_targa\", payload[\"plate_number\"])\n",
    "write_box(\"ASF_acquisto_anno\", payload[\"purchase_year\"])\n",
    "select_box_by_index(\"ASF_marca\", 6)\n",
    "select_box_by_index(\"ASF_modello\",19)"
   ]
  },
  {
   "cell_type": "code",
   "execution_count": null,
   "metadata": {},
   "outputs": [],
   "source": [
    "try:\n",
    "    select_box_by_index(\"ASF_antifurto\", 1)\n",
    "except:\n",
    "    print(f\"ASF_antifurto not found\")"
   ]
  },
  {
   "cell_type": "code",
   "execution_count": null,
   "metadata": {},
   "outputs": [],
   "source": [
    "select_box_by_index(\"ASF_allestimento\", 17)\n",
    "select_box_by_index(\"ASF_ricovero\", 1)\n",
    "select_box_by_index(\"ASF_uso_veicolo\", 2)\n",
    "click_button(\"pulsanteAvanti\")"
   ]
  },
  {
   "cell_type": "markdown",
   "metadata": {},
   "source": [
    "# Second Page Done"
   ]
  },
  {
   "cell_type": "code",
   "execution_count": null,
   "metadata": {},
   "outputs": [],
   "source": [
    "time.sleep(4)\n",
    "driver.get(driver.current_url)"
   ]
  },
  {
   "cell_type": "code",
   "execution_count": null,
   "metadata": {},
   "outputs": [],
   "source": [
    "write_box(\"ASF_decorrenza_giorno\", \"07\")\n",
    "write_box(\"ASF_decorrenza_mese\", \"01\")\n",
    "write_box(\"ASF_decorrenza_anno\", \"2024\")\n",
    "write_box(\"ASF_nome\", payload[\"name\"])\n",
    "write_box(\"ASF_cognome\", payload[\"surname\"])"
   ]
  },
  {
   "cell_type": "code",
   "execution_count": null,
   "metadata": {},
   "outputs": [],
   "source": [
    "click_button(\"retry_another_address\")\n",
    "\n",
    "write_box(\"ASF_comune_residenza\", payload[\"living_town\"], suggestion=True)\n",
    "write_box(\"ASF_indirizzo\",payload[\"address\"])\n",
    "write_box(\"ASF_civico\",payload[\"civic_number\"])\n",
    "select_box_by_index(\"ASF_assi_provenienza\", 2)\n",
    "select_box_by_index(\"ASF_classe_merito\", 2)\n",
    "booelan_check_box(\"ASF_conducente_check\", payload[\"unsuspended_license\"])\n",
    "select_box_by_index(\"ASF_eta_conducente_minore\", 10)\n",
    "write_box(\"ASF_email\", payload[\"email\"])\n",
    "write_box(\"ASF_telefono\", payload[\"phone\"])\n",
    "click_button(\"link_privacy_auth\")\n",
    "click_button(\"pulsanteAvanti\")"
   ]
  },
  {
   "cell_type": "markdown",
   "metadata": {},
   "source": [
    "# Preventivi"
   ]
  },
  {
   "cell_type": "code",
   "execution_count": null,
   "metadata": {},
   "outputs": [],
   "source": [
    "time.sleep(25)"
   ]
  },
  {
   "cell_type": "code",
   "execution_count": null,
   "metadata": {},
   "outputs": [],
   "source": [
    "driver.get(driver.current_url)"
   ]
  },
  {
   "cell_type": "code",
   "execution_count": null,
   "metadata": {},
   "outputs": [],
   "source": [
    "html_content = driver.page_source\n",
    "\n",
    "# Use Beautiful Soup to parse the HTML\n",
    "soup = BeautifulSoup(html_content, 'html.parser')\n",
    "\n",
    "# Find the element with the specified class name\n",
    "soup = soup.find(class_=\"_1rf45hm8x lw2wjx0\")"
   ]
  },
  {
   "cell_type": "code",
   "execution_count": null,
   "metadata": {},
   "outputs": [],
   "source": [
    "targets = soup.findAll(class_=\"_1rf45hm8x lw2wjx0\")"
   ]
  },
  {
   "cell_type": "code",
   "execution_count": null,
   "metadata": {},
   "outputs": [],
   "source": [
    "preventivi = []\n",
    "for preventivo in targets:\n",
    "    text = preventivo.text.split(':')\n",
    "    text = text[1:len(text)//2+1]\n",
    "    prezzo = text[0].split('Compagnia')[0]\n",
    "    if prezzo.split('€')[1] != '':\n",
    "        prezzo = prezzo.split('€')[1] + '€'\n",
    "    info_preventivo = {\n",
    "        'Prezzo Annuo': prezzo,\n",
    "        'Compagnia': text[1].split('Caratteristiche')[0],\n",
    "        # 'Caratteristiche': text[2].split('Massimale')[0],\n",
    "        # 'Massimale RC': text[3].split('Guida')[0]\n",
    "    }\n",
    "    preventivi.append(info_preventivo)\n",
    "\n",
    "\n",
    "    \n"
   ]
  },
  {
   "cell_type": "code",
   "execution_count": null,
   "metadata": {},
   "outputs": [],
   "source": [
    "preventivi\n"
   ]
  }
 ],
 "metadata": {
  "kernelspec": {
   "display_name": ".venv",
   "language": "python",
   "name": "python3"
  },
  "language_info": {
   "codemirror_mode": {
    "name": "ipython",
    "version": 3
   },
   "file_extension": ".py",
   "mimetype": "text/x-python",
   "name": "python",
   "nbconvert_exporter": "python",
   "pygments_lexer": "ipython3",
   "version": "3.10.6"
  }
 },
 "nbformat": 4,
 "nbformat_minor": 2
}
