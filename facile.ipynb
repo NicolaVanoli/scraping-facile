{
 "cells": [
  {
   "cell_type": "code",
   "execution_count": 1,
   "metadata": {},
   "outputs": [],
   "source": [
    "from selenium import webdriver\n",
    "from selenium.webdriver.common.keys import Keys\n",
    "from selenium.webdriver.chrome.options import Options\n",
    "from bs4 import BeautifulSoup\n",
    "import time\n",
    "from selenium import webdriver\n",
    "from selenium.webdriver.common.keys import Keys\n",
    "from selenium.webdriver.chrome.options import Options\n",
    "from selenium.webdriver.support.ui import WebDriverWait\n",
    "from selenium.webdriver.support import expected_conditions as EC\n",
    "from selenium.webdriver.common.by import By\n",
    "import time\n",
    "from selenium.webdriver.support.ui import Select\n",
    "from selenium.webdriver.common.action_chains import ActionChains\n",
    "import random\n",
    "# URL of the page\n",
    "url = \"https://www.facile.it/assicurazioni-auto/preventivo.html\"\n",
    "# url = \"http://www.facile.it\"\n",
    "# Set up the Chrome driver (you need to download the ChromeDriver executable)\n",
    "options = Options()\n",
    "\n",
    "# options.add_argument(\"--headless\")\n",
    "options.add_argument(\"--disable-logging\")\n",
    "options.add_argument('--allow-running-insecure-content')\n",
    "options.add_argument(f'--load-extension={\"C:/Users/nicol/Downloads/www.facile.it.crt\"}')\n",
    "options.add_argument(f'Referer: {\"https://www.facile.it/assicurazioni-auto/preventivo_2.html\"}')\n",
    "\n",
    "options.add_argument('--disable-application-cache')\n",
    "options.add_argument('--disk-cache-size=1')\n",
    "options.add_argument('--media-cache-size=1')\n",
    "options.add_argument('--disable-browser-side-navigation')\n",
    "options.add_argument(\"--disable-blink-features=AutomationControlled\")\n",
    "options.add_argument(\"--disable-extensions\")\n",
    "options.add_argument(\"--disable-gpu\")\n",
    "options.add_argument(\"--disable-dev-shm-usage\")\n",
    "\n",
    "# options.add_argument(\"--proxy-server=http://your-proxy-server:123\")\n",
    "# Create a new instance of the Chrome driver\n",
    "driver = webdriver.Chrome(options=options)\n",
    "# Open the URL in the browser\n",
    "driver.get(url)"
   ]
  },
  {
   "cell_type": "code",
   "execution_count": 2,
   "metadata": {},
   "outputs": [],
   "source": [
    "payload ={\n",
    "    \"gender\" : \"Maschio\",\n",
    "    \"birth_date\": \"17/03/1964\",\n",
    "    \"birth_town\": \"Montichiari\",\n",
    "    \"married\": \"S\",\n",
    "    \"study_title\": \"bachelorDegree\", #available options [\"bachelorDegree\", \"masterDegree\", \"highSchool\", \"secondarySchool\", \"primarySchool\", \"none\"]\n",
    "    \"job\": \"employee\",\n",
    "    \"plate_number\": 'FW085TZ',\n",
    "    \"purchase_year\": \"2019\",\n",
    "    \"name\": \"Germana\",\n",
    "    \"surname\": \"Tognon\",\n",
    "    \"living_town\": \"Montichiari\",\n",
    "    \"address\": \"Via XXV Aprile\",\n",
    "    \"civic_number\": \"132\",\n",
    "    \"email\":\"abrjhkhjukasa@gmail.com\",\n",
    "    \"phone\": \"3398219745\",\n",
    "    \"unsuspended_license\" : \"S\"\n",
    "\n",
    "    \n",
    "}"
   ]
  },
  {
   "cell_type": "code",
   "execution_count": 3,
   "metadata": {},
   "outputs": [],
   "source": [
    "def random_delay_wrapper(func):\n",
    "    def wrapper(*args, **kwargs):\n",
    "\n",
    "        delay = random.uniform(.5, 3)\n",
    "        time.sleep(delay)\n",
    "        \n",
    "        result = func(*args, **kwargs)\n",
    "        return result\n",
    "    \n",
    "    return wrapper"
   ]
  },
  {
   "cell_type": "code",
   "execution_count": 4,
   "metadata": {},
   "outputs": [],
   "source": [
    "@random_delay_wrapper\n",
    "def write_box(id_name: str, value: str, suggestion: bool =False):\n",
    "    box_name = WebDriverWait(driver, 10).until(\n",
    "        EC.presence_of_element_located((By.NAME, id_name))\n",
    "    )\n",
    "    box_name.clear()\n",
    "    for char in value:\n",
    "        box_name.send_keys(char)\n",
    "        time.sleep(random.uniform(0.1, 0.3))\n",
    "    if suggestion:\n",
    "        time.sleep(random.uniform(0.5, 2))\n",
    "        wait = WebDriverWait(driver, 3)\n",
    "\n",
    "        first_suggestion = wait.until(\n",
    "            EC.visibility_of_element_located((By.XPATH, '//div[@data-i=\"Autocomplete\"]//div[contains(@class, \"_1msz7s34\")]/div[1]'))\n",
    "        )\n",
    "\n",
    "        # Click the first suggestion\n",
    "        first_suggestion.click()\n",
    "        # suggestions = WebDriverWait(driver, 10).until(\n",
    "        #     EC.presence_of_all_elements_located((By.CSS_SELECTOR, \".autocomplete-suggestions div\"))\n",
    "        # )\n",
    "        # if suggestions:\n",
    "        #     first_suggestion = suggestions[0]\n",
    "        #     first_suggestion.click()\n",
    "\n",
    "@random_delay_wrapper\n",
    "def booelan_check_box(id_name: str, value: str):\n",
    "    box_name = WebDriverWait(driver, 10).until(\n",
    "        EC.presence_of_element_located((By.XPATH, f\"//label[@for='{id_name}_{value}']\"))\n",
    "    )\n",
    "    box_name.click()\n",
    "\n",
    "@random_delay_wrapper\n",
    "def select_box_by_index(id_name: str, index: int):\n",
    "    dropdown = WebDriverWait(driver, 10).until(\n",
    "        EC.presence_of_element_located((By.NAME, id_name))\n",
    "    )\n",
    "\n",
    "    select_index = Select(dropdown)\n",
    "    select_index.select_by_index(index)\n",
    "\n",
    "@random_delay_wrapper\n",
    "def click_button(element_name:str):\n",
    "    time.sleep(random.uniform(0.5, 2))\n",
    "    button = WebDriverWait(driver, 10).until(\n",
    "       EC.element_to_be_clickable((By.XPATH, f\"//span[text()=\\\"{element_name}\\\"]\"))\n",
    "          )\n",
    "    button.click()\n",
    "    # driver.execute_script(f\"document.getElementById('{element_name}').click();\")"
   ]
  },
  {
   "cell_type": "markdown",
   "metadata": {},
   "source": [
    "# Cooking starts here"
   ]
  },
  {
   "cell_type": "code",
   "execution_count": 5,
   "metadata": {},
   "outputs": [],
   "source": [
    "cookie_button =WebDriverWait(driver, 10).until(\n",
    "    EC.presence_of_element_located((By.XPATH, \"//button[contains(text(), 'Continua senza accettare')]\"))\n",
    ")\n",
    "cookie_button.click()"
   ]
  },
  {
   "cell_type": "code",
   "execution_count": 6,
   "metadata": {},
   "outputs": [],
   "source": [
    "for radio_button in driver.find_elements(By.NAME, 'personType'):\n",
    "    if radio_button.find_element(By.XPATH, './following-sibling::span').text == payload['gender']:\n",
    "        driver.execute_script(\"arguments[0].click();\", radio_button)\n",
    "        break\n"
   ]
  },
  {
   "cell_type": "code",
   "execution_count": 7,
   "metadata": {},
   "outputs": [],
   "source": [
    "write_box(\"birthDate\", payload[\"birth_date\"])\n",
    "write_box(\"city\",payload[\"birth_town\"], suggestion=True)\n",
    "for radio_button in driver.find_elements(By.NAME, 'marriedStatus'):\n",
    "    if radio_button.find_element(By.XPATH, './following-sibling::span').text == payload['married']:\n",
    "        driver.execute_script(\"arguments[0].click();\", radio_button)\n",
    "        break"
   ]
  },
  {
   "cell_type": "code",
   "execution_count": 8,
   "metadata": {},
   "outputs": [],
   "source": [
    "time.sleep(random.uniform(0.5, 2))\n",
    "dropdown = driver.find_element(By.NAME, 'educationalQualification')\n",
    "Select(dropdown).select_by_value(payload['study_title'])\n",
    "\n",
    "time.sleep(random.uniform(0.5, 2))\n",
    "dropdown = driver.find_element(By.NAME, 'occupation')\n",
    "Select(dropdown).select_by_value(payload['job'])\n"
   ]
  },
  {
   "cell_type": "code",
   "execution_count": 9,
   "metadata": {},
   "outputs": [],
   "source": [
    "element = driver.find_element(By.NAME, 'drivingLicenseYear')\n",
    "element.send_keys('1978')"
   ]
  },
  {
   "cell_type": "code",
   "execution_count": 10,
   "metadata": {},
   "outputs": [],
   "source": [
    "driver.find_element(By.XPATH, \"//button[@type='submit' and contains(@class, '_9h7zb28')]\").click()"
   ]
  },
  {
   "cell_type": "markdown",
   "metadata": {},
   "source": [
    "# First Page Done"
   ]
  },
  {
   "cell_type": "code",
   "execution_count": 11,
   "metadata": {},
   "outputs": [],
   "source": [
    "time.sleep(random.uniform(2, 3))\n",
    "driver.get(driver.current_url)"
   ]
  },
  {
   "cell_type": "code",
   "execution_count": 12,
   "metadata": {},
   "outputs": [],
   "source": [
    "write_box(\"plateNumber\", payload[\"plate_number\"])\n",
    "write_box(\"purchaseYear\", payload[\"purchase_year\"])\n",
    "dropdown = driver.find_element(By.NAME, 'make')\n",
    "Select(dropdown).select_by_index(2)\n",
    "\n",
    "time.sleep(random.uniform(0.5, 2))\n",
    "dropdown = driver.find_element(By.NAME, 'model')\n",
    "Select(dropdown).select_by_index(1)\n",
    "\n",
    "time.sleep(random.uniform(0.5, 2))\n",
    "dropdown = driver.find_element(By.NAME, 'equipment')\n",
    "Select(dropdown).select_by_index(1)\n",
    "\n",
    "time.sleep(random.uniform(0.5, 2))\n",
    "dropdown = driver.find_element(By.NAME, 'overnightParking')\n",
    "Select(dropdown).select_by_index(1)\n",
    "\n",
    "time.sleep(random.uniform(0.5, 2))\n",
    "dropdown = driver.find_element(By.NAME, 'overnightParking')\n",
    "Select(dropdown).select_by_index(1)\n",
    "\n",
    "time.sleep(random.uniform(0.5, 2))\n",
    "dropdown = driver.find_element(By.NAME, 'additionalFuel')\n",
    "Select(dropdown).select_by_index(1)"
   ]
  },
  {
   "cell_type": "code",
   "execution_count": 13,
   "metadata": {},
   "outputs": [],
   "source": [
    "try:\n",
    "    dropdown = driver.find_element(By.NAME, 'securityDevice')\n",
    "    select = Select(dropdown)\n",
    "    # Select the first option (excluding the placeholder) by its index\n",
    "    select.select_by_index(1)\n",
    "except:\n",
    "    print(f\"securityDevice not found\")"
   ]
  },
  {
   "cell_type": "code",
   "execution_count": 14,
   "metadata": {},
   "outputs": [],
   "source": [
    "driver.find_element(By.XPATH, \"//button[@type='submit' and contains(@class, '_9h7zb28')]\").click()"
   ]
  },
  {
   "cell_type": "markdown",
   "metadata": {},
   "source": [
    "# Second Page Done"
   ]
  },
  {
   "cell_type": "code",
   "execution_count": 15,
   "metadata": {},
   "outputs": [],
   "source": [
    "time.sleep(4)\n",
    "driver.get(driver.current_url)"
   ]
  },
  {
   "cell_type": "code",
   "execution_count": 16,
   "metadata": {},
   "outputs": [],
   "source": [
    "write_box(\"effectiveDate\", \"07/07/2024\")\n",
    "write_box(\"name\", payload[\"name\"])\n",
    "write_box(\"surname\", payload[\"surname\"])"
   ]
  },
  {
   "cell_type": "code",
   "execution_count": 17,
   "metadata": {},
   "outputs": [],
   "source": [
    "# manual_address_button = WebDriverWait(driver, 10).until(\n",
    "#     EC.element_to_be_clickable((By.XPATH, \"//span[text()=\\\"inserisci l'indirizzo manualmente\\\"]\"))\n",
    "# )\n",
    "\n",
    "# # Click the button\n",
    "# manual_address_button.click()"
   ]
  },
  {
   "cell_type": "code",
   "execution_count": 18,
   "metadata": {},
   "outputs": [
    {
     "ename": "TimeoutException",
     "evalue": "Message: \nStacktrace:\n\tGetHandleVerifier [0x00007FF705201F52+60322]\n\t(No symbol) [0x00007FF70517CEC9]\n\t(No symbol) [0x00007FF705037EBA]\n\t(No symbol) [0x00007FF705087676]\n\t(No symbol) [0x00007FF70508773C]\n\t(No symbol) [0x00007FF7050CE967]\n\t(No symbol) [0x00007FF7050AC25F]\n\t(No symbol) [0x00007FF7050CBC80]\n\t(No symbol) [0x00007FF7050ABFC3]\n\t(No symbol) [0x00007FF705079617]\n\t(No symbol) [0x00007FF70507A211]\n\tGetHandleVerifier [0x00007FF7055194AD+3301629]\n\tGetHandleVerifier [0x00007FF7055636D3+3605283]\n\tGetHandleVerifier [0x00007FF705559450+3563680]\n\tGetHandleVerifier [0x00007FF7052B4326+790390]\n\t(No symbol) [0x00007FF70518750F]\n\t(No symbol) [0x00007FF705183404]\n\t(No symbol) [0x00007FF705183592]\n\t(No symbol) [0x00007FF705172F9F]\n\tBaseThreadInitThunk [0x00007FFBDF257344+20]\n\tRtlUserThreadStart [0x00007FFBE06A26B1+33]\n",
     "output_type": "error",
     "traceback": [
      "\u001b[1;31m---------------------------------------------------------------------------\u001b[0m",
      "\u001b[1;31mTimeoutException\u001b[0m                          Traceback (most recent call last)",
      "Cell \u001b[1;32mIn[18], line 13\u001b[0m\n\u001b[0;32m     10\u001b[0m write_box(\u001b[38;5;124m\"\u001b[39m\u001b[38;5;124memail\u001b[39m\u001b[38;5;124m\"\u001b[39m, payload[\u001b[38;5;124m\"\u001b[39m\u001b[38;5;124memail\u001b[39m\u001b[38;5;124m\"\u001b[39m])\n\u001b[0;32m     11\u001b[0m write_box(\u001b[38;5;124m\"\u001b[39m\u001b[38;5;124mphone\u001b[39m\u001b[38;5;124m\"\u001b[39m, payload[\u001b[38;5;124m\"\u001b[39m\u001b[38;5;124mphone\u001b[39m\u001b[38;5;124m\"\u001b[39m])\n\u001b[1;32m---> 13\u001b[0m checkbox \u001b[38;5;241m=\u001b[39m \u001b[43mWebDriverWait\u001b[49m\u001b[43m(\u001b[49m\u001b[43mdriver\u001b[49m\u001b[43m,\u001b[49m\u001b[43m \u001b[49m\u001b[38;5;241;43m10\u001b[39;49m\u001b[43m)\u001b[49m\u001b[38;5;241;43m.\u001b[39;49m\u001b[43muntil\u001b[49m\u001b[43m(\u001b[49m\n\u001b[0;32m     14\u001b[0m \u001b[43m    \u001b[49m\u001b[43mEC\u001b[49m\u001b[38;5;241;43m.\u001b[39;49m\u001b[43melement_to_be_clickable\u001b[49m\u001b[43m(\u001b[49m\u001b[43m(\u001b[49m\u001b[43mBy\u001b[49m\u001b[38;5;241;43m.\u001b[39;49m\u001b[43mXPATH\u001b[49m\u001b[43m,\u001b[49m\u001b[43m \u001b[49m\u001b[38;5;124;43m\"\u001b[39;49m\u001b[38;5;124;43m//input[@name=\u001b[39;49m\u001b[38;5;124;43m'\u001b[39;49m\u001b[38;5;124;43mdocumentsGroup_main\u001b[39;49m\u001b[38;5;124;43m'\u001b[39;49m\u001b[38;5;124;43m and @type=\u001b[39;49m\u001b[38;5;124;43m'\u001b[39;49m\u001b[38;5;124;43mcheckbox\u001b[39;49m\u001b[38;5;124;43m'\u001b[39;49m\u001b[38;5;124;43m and @id=\u001b[39;49m\u001b[38;5;124;43m'\u001b[39;49m\u001b[38;5;124;43m6539a14e12\u001b[39;49m\u001b[38;5;124;43m'\u001b[39;49m\u001b[38;5;124;43m]\u001b[39;49m\u001b[38;5;124;43m\"\u001b[39;49m\u001b[43m)\u001b[49m\u001b[43m)\u001b[49m\n\u001b[0;32m     15\u001b[0m \u001b[43m)\u001b[49m\n\u001b[0;32m     17\u001b[0m \u001b[38;5;66;03m# Click the checkbox\u001b[39;00m\n\u001b[0;32m     18\u001b[0m checkbox\u001b[38;5;241m.\u001b[39mclick()\n",
      "File \u001b[1;32mc:\\Users\\nicol\\Desktop\\Personal\\scraping-facile\\.venv\\lib\\site-packages\\selenium\\webdriver\\support\\wait.py:101\u001b[0m, in \u001b[0;36mWebDriverWait.until\u001b[1;34m(self, method, message)\u001b[0m\n\u001b[0;32m     99\u001b[0m     \u001b[38;5;28;01mif\u001b[39;00m time\u001b[38;5;241m.\u001b[39mmonotonic() \u001b[38;5;241m>\u001b[39m end_time:\n\u001b[0;32m    100\u001b[0m         \u001b[38;5;28;01mbreak\u001b[39;00m\n\u001b[1;32m--> 101\u001b[0m \u001b[38;5;28;01mraise\u001b[39;00m TimeoutException(message, screen, stacktrace)\n",
      "\u001b[1;31mTimeoutException\u001b[0m: Message: \nStacktrace:\n\tGetHandleVerifier [0x00007FF705201F52+60322]\n\t(No symbol) [0x00007FF70517CEC9]\n\t(No symbol) [0x00007FF705037EBA]\n\t(No symbol) [0x00007FF705087676]\n\t(No symbol) [0x00007FF70508773C]\n\t(No symbol) [0x00007FF7050CE967]\n\t(No symbol) [0x00007FF7050AC25F]\n\t(No symbol) [0x00007FF7050CBC80]\n\t(No symbol) [0x00007FF7050ABFC3]\n\t(No symbol) [0x00007FF705079617]\n\t(No symbol) [0x00007FF70507A211]\n\tGetHandleVerifier [0x00007FF7055194AD+3301629]\n\tGetHandleVerifier [0x00007FF7055636D3+3605283]\n\tGetHandleVerifier [0x00007FF705559450+3563680]\n\tGetHandleVerifier [0x00007FF7052B4326+790390]\n\t(No symbol) [0x00007FF70518750F]\n\t(No symbol) [0x00007FF705183404]\n\t(No symbol) [0x00007FF705183592]\n\t(No symbol) [0x00007FF705172F9F]\n\tBaseThreadInitThunk [0x00007FFBDF257344+20]\n\tRtlUserThreadStart [0x00007FFBE06A26B1+33]\n"
     ]
    }
   ],
   "source": [
    "click_button(\"inserisci l'indirizzo manualmente\")\n",
    "\n",
    "write_box(\"city\", payload[\"living_town\"], suggestion=True)\n",
    "write_box(\"street\",payload[\"address\"])\n",
    "write_box(\"streetNumber\",payload[\"civic_number\"])\n",
    "select_box_by_index(\"company\", 2)\n",
    "select_box_by_index(\"assignedUniversalRiskClass\", 2)\n",
    "# booelan_check_box(\"ASF_conducente_check\", payload[\"unsuspended_license\"])\n",
    "select_box_by_index(\"youngestDriverAge\", 5)\n",
    "write_box(\"email\", payload[\"email\"])\n",
    "write_box(\"phone\", payload[\"phone\"])\n",
    "\n",
    "checkbox = WebDriverWait(driver, 10).until(\n",
    "    EC.element_to_be_clickable((By.XPATH, \"//input[@name='documentsGroup_main' and @type='checkbox' and @id='6539a14e12']\"))\n",
    ")\n",
    "\n",
    "# Click the checkbox\n",
    "checkbox.click()\n",
    "# click_button(\"pulsanteAvanti\")"
   ]
  },
  {
   "cell_type": "code",
   "execution_count": null,
   "metadata": {},
   "outputs": [],
   "source": [
    "checkbox = WebDriverWait(driver, 10).until(\n",
    "    EC.element_to_be_clickable((By.XPATH, \"//input[@type='checkbox' and @id='16040a12a3a']\"))\n",
    ")\n",
    "\n",
    "# Click the checkbox to check it\n",
    "checkbox.click()\n"
   ]
  },
  {
   "cell_type": "markdown",
   "metadata": {},
   "source": [
    "# Preventivi"
   ]
  },
  {
   "cell_type": "code",
   "execution_count": null,
   "metadata": {},
   "outputs": [],
   "source": [
    "time.sleep(25)"
   ]
  },
  {
   "cell_type": "code",
   "execution_count": null,
   "metadata": {},
   "outputs": [],
   "source": [
    "driver.get(driver.current_url)"
   ]
  },
  {
   "cell_type": "code",
   "execution_count": null,
   "metadata": {},
   "outputs": [],
   "source": [
    "html_content = driver.page_source\n",
    "\n",
    "# Use Beautiful Soup to parse the HTML\n",
    "soup = BeautifulSoup(html_content, 'html.parser')\n",
    "\n",
    "# Find the element with the specified class name\n",
    "soup = soup.find(class_=\"_1rf45hm8x lw2wjx0\")"
   ]
  },
  {
   "cell_type": "code",
   "execution_count": null,
   "metadata": {},
   "outputs": [],
   "source": [
    "targets = soup.findAll(class_=\"_1rf45hm8x lw2wjx0\")"
   ]
  },
  {
   "cell_type": "code",
   "execution_count": null,
   "metadata": {},
   "outputs": [],
   "source": [
    "preventivi = []\n",
    "for preventivo in targets:\n",
    "    text = preventivo.text.split(':')\n",
    "    text = text[1:len(text)//2+1]\n",
    "    prezzo = text[0].split('Compagnia')[0]\n",
    "    if prezzo.split('€')[1] != '':\n",
    "        prezzo = prezzo.split('€')[1] + '€'\n",
    "    info_preventivo = {\n",
    "        'Prezzo Annuo': prezzo,\n",
    "        'Compagnia': text[1].split('Caratteristiche')[0],\n",
    "        # 'Caratteristiche': text[2].split('Massimale')[0],\n",
    "        # 'Massimale RC': text[3].split('Guida')[0]\n",
    "    }\n",
    "    preventivi.append(info_preventivo)\n",
    "\n",
    "\n",
    "    \n"
   ]
  },
  {
   "cell_type": "code",
   "execution_count": null,
   "metadata": {},
   "outputs": [],
   "source": [
    "preventivi\n"
   ]
  }
 ],
 "metadata": {
  "kernelspec": {
   "display_name": ".venv",
   "language": "python",
   "name": "python3"
  },
  "language_info": {
   "codemirror_mode": {
    "name": "ipython",
    "version": 3
   },
   "file_extension": ".py",
   "mimetype": "text/x-python",
   "name": "python",
   "nbconvert_exporter": "python",
   "pygments_lexer": "ipython3",
   "version": "3.10.6"
  }
 },
 "nbformat": 4,
 "nbformat_minor": 2
}
