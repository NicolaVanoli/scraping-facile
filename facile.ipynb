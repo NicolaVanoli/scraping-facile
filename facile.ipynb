{
 "cells": [
  {
   "cell_type": "code",
   "execution_count": 1,
   "metadata": {},
   "outputs": [],
   "source": [
    "from selenium import webdriver\n",
    "from selenium.webdriver.common.keys import Keys\n",
    "from selenium.webdriver.chrome.options import Options\n",
    "from bs4 import BeautifulSoup\n",
    "import time\n",
    "from selenium import webdriver\n",
    "from selenium.webdriver.common.keys import Keys\n",
    "from selenium.webdriver.chrome.options import Options\n",
    "from selenium.webdriver.support.ui import WebDriverWait\n",
    "from selenium.webdriver.support import expected_conditions as EC\n",
    "from selenium.webdriver.common.by import By\n",
    "import time\n",
    "from selenium.webdriver.support.ui import Select\n",
    "from selenium.webdriver.common.action_chains import ActionChains\n",
    "import random\n",
    "# URL of the page\n",
    "url = \"https://www.facile.it/assicurazioni-auto/preventivo.html\"\n",
    "# url = \"http://www.facile.it\"\n",
    "# Set up the Chrome driver (you need to download the ChromeDriver executable)\n",
    "options = Options()\n",
    "\n",
    "# options.add_argument(\"--headless\")\n",
    "options.add_argument(\"--disable-logging\")\n",
    "options.add_argument('--allow-running-insecure-content')\n",
    "options.add_argument(f'--load-extension={\"C:/Users/nicol/Downloads/www.facile.it.crt\"}')\n",
    "options.add_argument(f'Referer: {\"https://www.facile.it/assicurazioni-auto/preventivo_2.html\"}')\n",
    "\n",
    "options.add_argument('--disable-application-cache')\n",
    "options.add_argument('--disk-cache-size=1')\n",
    "options.add_argument('--media-cache-size=1')\n",
    "options.add_argument('--disable-browser-side-navigation')\n",
    "options.add_argument(\"--disable-blink-features=AutomationControlled\")\n",
    "options.add_argument(\"--disable-extensions\")\n",
    "options.add_argument(\"--disable-gpu\")\n",
    "options.add_argument(\"--disable-dev-shm-usage\")\n",
    "\n",
    "# options.add_argument(\"--proxy-server=http://your-proxy-server:123\")\n",
    "# Create a new instance of the Chrome driver\n",
    "driver = webdriver.Chrome(options=options)\n",
    "# Open the URL in the browser\n",
    "driver.get(url)"
   ]
  },
  {
   "cell_type": "code",
   "execution_count": 2,
   "metadata": {},
   "outputs": [],
   "source": [
    "payload ={\n",
    "    \"gender\" : \"Maschio\",\n",
    "    \"birth_date\": \"17/03/1964\",\n",
    "    \"birth_town\": \"Montichiari\",\n",
    "    \"married\": \"S\",\n",
    "    \"study_title\": \"bachelorDegree\", #available options [\"bachelorDegree\", \"masterDegree\", \"highSchool\", \"secondarySchool\", \"primarySchool\", \"none\"]\n",
    "    \"job\": \"employee\",\n",
    "    \"plate_number\": 'FW085TZ',\n",
    "    \"purchase_year\": \"2019\",\n",
    "    \"name\": \"Germana\",\n",
    "    \"surname\": \"Tognon\",\n",
    "    \"living_town\": \"Montichiari\",\n",
    "    \"address\": \"Via XXV Aprile\",\n",
    "    \"civic_number\": \"132\",\n",
    "    \"email\":\"abrjhkhjukasa@gmail.com\",\n",
    "    \"phone\": \"3398219745\",\n",
    "    \"unsuspended_license\" : \"S\"\n",
    "\n",
    "    \n",
    "}"
   ]
  },
  {
   "cell_type": "code",
   "execution_count": 3,
   "metadata": {},
   "outputs": [],
   "source": [
    "def random_delay_wrapper(func):\n",
    "    def wrapper(*args, **kwargs):\n",
    "\n",
    "        delay = random.uniform(.5, 3)\n",
    "        time.sleep(delay)\n",
    "        \n",
    "        result = func(*args, **kwargs)\n",
    "        return result\n",
    "    \n",
    "    return wrapper"
   ]
  },
  {
   "cell_type": "code",
   "execution_count": 4,
   "metadata": {},
   "outputs": [],
   "source": [
    "@random_delay_wrapper\n",
    "def write_box(id_name: str, value: str, suggestion: bool =False):\n",
    "    box_name = WebDriverWait(driver, 10).until(\n",
    "        EC.presence_of_element_located((By.NAME, id_name))\n",
    "    )\n",
    "    box_name.clear()\n",
    "    for char in value:\n",
    "        box_name.send_keys(char)\n",
    "        time.sleep(random.uniform(0.1, 0.3))\n",
    "    if suggestion:\n",
    "        time.sleep(random.uniform(0.5, 2))\n",
    "        wait = WebDriverWait(driver, 3)\n",
    "\n",
    "        first_suggestion = wait.until(\n",
    "            EC.visibility_of_element_located((By.XPATH, '//div[@data-i=\"Autocomplete\"]//div[contains(@class, \"_1msz7s34\")]/div[1]'))\n",
    "        )\n",
    "\n",
    "        # Click the first suggestion\n",
    "        first_suggestion.click()\n",
    "        # suggestions = WebDriverWait(driver, 10).until(\n",
    "        #     EC.presence_of_all_elements_located((By.CSS_SELECTOR, \".autocomplete-suggestions div\"))\n",
    "        # )\n",
    "        # if suggestions:\n",
    "        #     first_suggestion = suggestions[0]\n",
    "        #     first_suggestion.click()\n",
    "\n",
    "@random_delay_wrapper\n",
    "def booelan_check_box(id_name: str, value: str):\n",
    "    box_name = WebDriverWait(driver, 10).until(\n",
    "        EC.presence_of_element_located((By.XPATH, f\"//label[@for='{id_name}_{value}']\"))\n",
    "    )\n",
    "    box_name.click()\n",
    "\n",
    "@random_delay_wrapper\n",
    "def select_box_by_index(id_name: str, index: int):\n",
    "    dropdown = WebDriverWait(driver, 10).until(\n",
    "        EC.presence_of_element_located((By.ID, id_name))\n",
    "    )\n",
    "\n",
    "    select_index = Select(dropdown)\n",
    "    select_index.select_by_index(index)\n",
    "\n",
    "@random_delay_wrapper\n",
    "def click_button(element_name:str):\n",
    "    time.sleep(random.uniform(0.5, 2))\n",
    "    driver.execute_script(f\"document.getElementById('{element_name}').click();\")"
   ]
  },
  {
   "cell_type": "markdown",
   "metadata": {},
   "source": [
    "# Cooking starts here"
   ]
  },
  {
   "cell_type": "code",
   "execution_count": 5,
   "metadata": {},
   "outputs": [],
   "source": [
    "cookie_button =WebDriverWait(driver, 10).until(\n",
    "    EC.presence_of_element_located((By.XPATH, \"//button[contains(text(), 'Continua senza accettare')]\"))\n",
    ")\n",
    "cookie_button.click()"
   ]
  },
  {
   "cell_type": "code",
   "execution_count": 6,
   "metadata": {},
   "outputs": [],
   "source": [
    "for radio_button in driver.find_elements(By.NAME, 'personType'):\n",
    "    if radio_button.find_element(By.XPATH, './following-sibling::span').text == payload['gender']:\n",
    "        driver.execute_script(\"arguments[0].click();\", radio_button)\n",
    "        break\n"
   ]
  },
  {
   "cell_type": "code",
   "execution_count": 7,
   "metadata": {},
   "outputs": [],
   "source": [
    "write_box(\"birthDate\", payload[\"birth_date\"])\n",
    "write_box(\"city\",payload[\"birth_town\"], suggestion=True)\n",
    "for radio_button in driver.find_elements(By.NAME, 'marriedStatus'):\n",
    "    if radio_button.find_element(By.XPATH, './following-sibling::span').text == payload['married']:\n",
    "        driver.execute_script(\"arguments[0].click();\", radio_button)\n",
    "        break"
   ]
  },
  {
   "cell_type": "code",
   "execution_count": 8,
   "metadata": {},
   "outputs": [],
   "source": [
    "time.sleep(random.uniform(0.5, 2))\n",
    "dropdown = driver.find_element(By.NAME, 'educationalQualification')\n",
    "Select(dropdown).select_by_value(payload['study_title'])\n",
    "\n",
    "time.sleep(random.uniform(0.5, 2))\n",
    "dropdown = driver.find_element(By.NAME, 'occupation')\n",
    "Select(dropdown).select_by_value(payload['job'])\n"
   ]
  },
  {
   "cell_type": "code",
   "execution_count": 9,
   "metadata": {},
   "outputs": [],
   "source": [
    "element = driver.find_element(By.NAME, 'drivingLicenseYear')\n",
    "element.send_keys('1978')"
   ]
  },
  {
   "cell_type": "code",
   "execution_count": 10,
   "metadata": {},
   "outputs": [],
   "source": [
    "driver.find_element(By.XPATH, \"//button[@type='submit' and contains(@class, '_9h7zb28')]\").click()"
   ]
  },
  {
   "cell_type": "markdown",
   "metadata": {},
   "source": [
    "# First Page Done"
   ]
  },
  {
   "cell_type": "code",
   "execution_count": 11,
   "metadata": {},
   "outputs": [],
   "source": [
    "time.sleep(random.uniform(2, 3))\n",
    "driver.get(driver.current_url)"
   ]
  },
  {
   "cell_type": "code",
   "execution_count": 12,
   "metadata": {},
   "outputs": [],
   "source": [
    "write_box(\"plateNumber\", payload[\"plate_number\"])\n",
    "write_box(\"purchaseYear\", payload[\"purchase_year\"])\n",
    "dropdown = driver.find_element(By.NAME, 'make')\n",
    "Select(dropdown).select_by_index(2)\n",
    "\n",
    "time.sleep(random.uniform(0.5, 2))\n",
    "dropdown = driver.find_element(By.NAME, 'model')\n",
    "Select(dropdown).select_by_index(1)\n",
    "\n",
    "time.sleep(random.uniform(0.5, 2))\n",
    "dropdown = driver.find_element(By.NAME, 'equipment')\n",
    "Select(dropdown).select_by_index(1)\n",
    "\n",
    "time.sleep(random.uniform(0.5, 2))\n",
    "dropdown = driver.find_element(By.NAME, 'overnightParking')\n",
    "Select(dropdown).select_by_index(1)\n",
    "\n",
    "time.sleep(random.uniform(0.5, 2))\n",
    "dropdown = driver.find_element(By.NAME, 'overnightParking')\n",
    "Select(dropdown).select_by_index(1)\n",
    "\n",
    "time.sleep(random.uniform(0.5, 2))\n",
    "dropdown = driver.find_element(By.NAME, 'additionalFuel')\n",
    "Select(dropdown).select_by_index(1)"
   ]
  },
  {
   "cell_type": "code",
   "execution_count": 13,
   "metadata": {},
   "outputs": [],
   "source": [
    "try:\n",
    "    dropdown = driver.find_element(By.NAME, 'securityDevice')\n",
    "    select = Select(dropdown)\n",
    "    # Select the first option (excluding the placeholder) by its index\n",
    "    select.select_by_index(1)\n",
    "except:\n",
    "    print(f\"securityDevice not found\")"
   ]
  },
  {
   "cell_type": "code",
   "execution_count": 14,
   "metadata": {},
   "outputs": [],
   "source": [
    "driver.find_element(By.XPATH, \"//button[@type='submit' and contains(@class, '_9h7zb28')]\").click()"
   ]
  },
  {
   "cell_type": "markdown",
   "metadata": {},
   "source": [
    "# Second Page Done"
   ]
  },
  {
   "cell_type": "code",
   "execution_count": 15,
   "metadata": {},
   "outputs": [],
   "source": [
    "time.sleep(4)\n",
    "driver.get(driver.current_url)"
   ]
  },
  {
   "cell_type": "code",
   "execution_count": 16,
   "metadata": {},
   "outputs": [],
   "source": [
    "write_box(\"effectiveDate\", \"07/07/2024\")\n",
    "write_box(\"name\", payload[\"name\"])\n",
    "write_box(\"surname\", payload[\"surname\"])"
   ]
  },
  {
   "cell_type": "code",
   "execution_count": 17,
   "metadata": {},
   "outputs": [
    {
     "ename": "JavascriptException",
     "evalue": "Message: javascript error: Cannot read properties of null (reading 'click')\n  (Session info: chrome=125.0.6422.142)\nStacktrace:\n\tGetHandleVerifier [0x00007FF705201F52+60322]\n\t(No symbol) [0x00007FF70517CEC9]\n\t(No symbol) [0x00007FF705037EBA]\n\t(No symbol) [0x00007FF70503DCEE]\n\t(No symbol) [0x00007FF705040968]\n\t(No symbol) [0x00007FF7050CC95B]\n\t(No symbol) [0x00007FF7050AC21A]\n\t(No symbol) [0x00007FF7050CBC80]\n\t(No symbol) [0x00007FF7050ABFC3]\n\t(No symbol) [0x00007FF705079617]\n\t(No symbol) [0x00007FF70507A211]\n\tGetHandleVerifier [0x00007FF7055194AD+3301629]\n\tGetHandleVerifier [0x00007FF7055636D3+3605283]\n\tGetHandleVerifier [0x00007FF705559450+3563680]\n\tGetHandleVerifier [0x00007FF7052B4326+790390]\n\t(No symbol) [0x00007FF70518750F]\n\t(No symbol) [0x00007FF705183404]\n\t(No symbol) [0x00007FF705183592]\n\t(No symbol) [0x00007FF705172F9F]\n\tBaseThreadInitThunk [0x00007FFBDF257344+20]\n\tRtlUserThreadStart [0x00007FFBE06A26B1+33]\n",
     "output_type": "error",
     "traceback": [
      "\u001b[1;31m---------------------------------------------------------------------------\u001b[0m",
      "\u001b[1;31mJavascriptException\u001b[0m                       Traceback (most recent call last)",
      "Cell \u001b[1;32mIn[17], line 1\u001b[0m\n\u001b[1;32m----> 1\u001b[0m \u001b[43mclick_button\u001b[49m\u001b[43m(\u001b[49m\u001b[38;5;124;43m\"\u001b[39;49m\u001b[38;5;124;43mretry_another_address\u001b[39;49m\u001b[38;5;124;43m\"\u001b[39;49m\u001b[43m)\u001b[49m\n\u001b[0;32m      3\u001b[0m write_box(\u001b[38;5;124m\"\u001b[39m\u001b[38;5;124mASF_comune_residenza\u001b[39m\u001b[38;5;124m\"\u001b[39m, payload[\u001b[38;5;124m\"\u001b[39m\u001b[38;5;124mliving_town\u001b[39m\u001b[38;5;124m\"\u001b[39m], suggestion\u001b[38;5;241m=\u001b[39m\u001b[38;5;28;01mTrue\u001b[39;00m)\n\u001b[0;32m      4\u001b[0m write_box(\u001b[38;5;124m\"\u001b[39m\u001b[38;5;124mASF_indirizzo\u001b[39m\u001b[38;5;124m\"\u001b[39m,payload[\u001b[38;5;124m\"\u001b[39m\u001b[38;5;124maddress\u001b[39m\u001b[38;5;124m\"\u001b[39m])\n",
      "Cell \u001b[1;32mIn[3], line 7\u001b[0m, in \u001b[0;36mrandom_delay_wrapper.<locals>.wrapper\u001b[1;34m(*args, **kwargs)\u001b[0m\n\u001b[0;32m      4\u001b[0m delay \u001b[38;5;241m=\u001b[39m random\u001b[38;5;241m.\u001b[39muniform(\u001b[38;5;241m.5\u001b[39m, \u001b[38;5;241m3\u001b[39m)\n\u001b[0;32m      5\u001b[0m time\u001b[38;5;241m.\u001b[39msleep(delay)\n\u001b[1;32m----> 7\u001b[0m result \u001b[38;5;241m=\u001b[39m func(\u001b[38;5;241m*\u001b[39margs, \u001b[38;5;241m*\u001b[39m\u001b[38;5;241m*\u001b[39mkwargs)\n\u001b[0;32m      8\u001b[0m \u001b[38;5;28;01mreturn\u001b[39;00m result\n",
      "Cell \u001b[1;32mIn[4], line 46\u001b[0m, in \u001b[0;36mclick_button\u001b[1;34m(element_name)\u001b[0m\n\u001b[0;32m     43\u001b[0m \u001b[38;5;129m@random_delay_wrapper\u001b[39m\n\u001b[0;32m     44\u001b[0m \u001b[38;5;28;01mdef\u001b[39;00m \u001b[38;5;21mclick_button\u001b[39m(element_name:\u001b[38;5;28mstr\u001b[39m):\n\u001b[0;32m     45\u001b[0m     time\u001b[38;5;241m.\u001b[39msleep(random\u001b[38;5;241m.\u001b[39muniform(\u001b[38;5;241m0.5\u001b[39m, \u001b[38;5;241m2\u001b[39m))\n\u001b[1;32m---> 46\u001b[0m     \u001b[43mdriver\u001b[49m\u001b[38;5;241;43m.\u001b[39;49m\u001b[43mexecute_script\u001b[49m\u001b[43m(\u001b[49m\u001b[38;5;124;43mf\u001b[39;49m\u001b[38;5;124;43m\"\u001b[39;49m\u001b[38;5;124;43mdocument.getElementById(\u001b[39;49m\u001b[38;5;124;43m'\u001b[39;49m\u001b[38;5;132;43;01m{\u001b[39;49;00m\u001b[43melement_name\u001b[49m\u001b[38;5;132;43;01m}\u001b[39;49;00m\u001b[38;5;124;43m'\u001b[39;49m\u001b[38;5;124;43m).click();\u001b[39;49m\u001b[38;5;124;43m\"\u001b[39;49m\u001b[43m)\u001b[49m\n",
      "File \u001b[1;32mc:\\Users\\nicol\\Desktop\\Personal\\scraping-facile\\.venv\\lib\\site-packages\\selenium\\webdriver\\remote\\webdriver.py:407\u001b[0m, in \u001b[0;36mWebDriver.execute_script\u001b[1;34m(self, script, *args)\u001b[0m\n\u001b[0;32m    404\u001b[0m converted_args \u001b[38;5;241m=\u001b[39m \u001b[38;5;28mlist\u001b[39m(args)\n\u001b[0;32m    405\u001b[0m command \u001b[38;5;241m=\u001b[39m Command\u001b[38;5;241m.\u001b[39mW3C_EXECUTE_SCRIPT\n\u001b[1;32m--> 407\u001b[0m \u001b[38;5;28;01mreturn\u001b[39;00m \u001b[38;5;28;43mself\u001b[39;49m\u001b[38;5;241;43m.\u001b[39;49m\u001b[43mexecute\u001b[49m\u001b[43m(\u001b[49m\u001b[43mcommand\u001b[49m\u001b[43m,\u001b[49m\u001b[43m \u001b[49m\u001b[43m{\u001b[49m\u001b[38;5;124;43m\"\u001b[39;49m\u001b[38;5;124;43mscript\u001b[39;49m\u001b[38;5;124;43m\"\u001b[39;49m\u001b[43m:\u001b[49m\u001b[43m \u001b[49m\u001b[43mscript\u001b[49m\u001b[43m,\u001b[49m\u001b[43m \u001b[49m\u001b[38;5;124;43m\"\u001b[39;49m\u001b[38;5;124;43margs\u001b[39;49m\u001b[38;5;124;43m\"\u001b[39;49m\u001b[43m:\u001b[49m\u001b[43m \u001b[49m\u001b[43mconverted_args\u001b[49m\u001b[43m}\u001b[49m\u001b[43m)\u001b[49m[\u001b[38;5;124m\"\u001b[39m\u001b[38;5;124mvalue\u001b[39m\u001b[38;5;124m\"\u001b[39m]\n",
      "File \u001b[1;32mc:\\Users\\nicol\\Desktop\\Personal\\scraping-facile\\.venv\\lib\\site-packages\\selenium\\webdriver\\remote\\webdriver.py:347\u001b[0m, in \u001b[0;36mWebDriver.execute\u001b[1;34m(self, driver_command, params)\u001b[0m\n\u001b[0;32m    345\u001b[0m response \u001b[38;5;241m=\u001b[39m \u001b[38;5;28mself\u001b[39m\u001b[38;5;241m.\u001b[39mcommand_executor\u001b[38;5;241m.\u001b[39mexecute(driver_command, params)\n\u001b[0;32m    346\u001b[0m \u001b[38;5;28;01mif\u001b[39;00m response:\n\u001b[1;32m--> 347\u001b[0m     \u001b[38;5;28;43mself\u001b[39;49m\u001b[38;5;241;43m.\u001b[39;49m\u001b[43merror_handler\u001b[49m\u001b[38;5;241;43m.\u001b[39;49m\u001b[43mcheck_response\u001b[49m\u001b[43m(\u001b[49m\u001b[43mresponse\u001b[49m\u001b[43m)\u001b[49m\n\u001b[0;32m    348\u001b[0m     response[\u001b[38;5;124m\"\u001b[39m\u001b[38;5;124mvalue\u001b[39m\u001b[38;5;124m\"\u001b[39m] \u001b[38;5;241m=\u001b[39m \u001b[38;5;28mself\u001b[39m\u001b[38;5;241m.\u001b[39m_unwrap_value(response\u001b[38;5;241m.\u001b[39mget(\u001b[38;5;124m\"\u001b[39m\u001b[38;5;124mvalue\u001b[39m\u001b[38;5;124m\"\u001b[39m, \u001b[38;5;28;01mNone\u001b[39;00m))\n\u001b[0;32m    349\u001b[0m     \u001b[38;5;28;01mreturn\u001b[39;00m response\n",
      "File \u001b[1;32mc:\\Users\\nicol\\Desktop\\Personal\\scraping-facile\\.venv\\lib\\site-packages\\selenium\\webdriver\\remote\\errorhandler.py:229\u001b[0m, in \u001b[0;36mErrorHandler.check_response\u001b[1;34m(self, response)\u001b[0m\n\u001b[0;32m    227\u001b[0m         alert_text \u001b[38;5;241m=\u001b[39m value[\u001b[38;5;124m\"\u001b[39m\u001b[38;5;124malert\u001b[39m\u001b[38;5;124m\"\u001b[39m]\u001b[38;5;241m.\u001b[39mget(\u001b[38;5;124m\"\u001b[39m\u001b[38;5;124mtext\u001b[39m\u001b[38;5;124m\"\u001b[39m)\n\u001b[0;32m    228\u001b[0m     \u001b[38;5;28;01mraise\u001b[39;00m exception_class(message, screen, stacktrace, alert_text)  \u001b[38;5;66;03m# type: ignore[call-arg]  # mypy is not smart enough here\u001b[39;00m\n\u001b[1;32m--> 229\u001b[0m \u001b[38;5;28;01mraise\u001b[39;00m exception_class(message, screen, stacktrace)\n",
      "\u001b[1;31mJavascriptException\u001b[0m: Message: javascript error: Cannot read properties of null (reading 'click')\n  (Session info: chrome=125.0.6422.142)\nStacktrace:\n\tGetHandleVerifier [0x00007FF705201F52+60322]\n\t(No symbol) [0x00007FF70517CEC9]\n\t(No symbol) [0x00007FF705037EBA]\n\t(No symbol) [0x00007FF70503DCEE]\n\t(No symbol) [0x00007FF705040968]\n\t(No symbol) [0x00007FF7050CC95B]\n\t(No symbol) [0x00007FF7050AC21A]\n\t(No symbol) [0x00007FF7050CBC80]\n\t(No symbol) [0x00007FF7050ABFC3]\n\t(No symbol) [0x00007FF705079617]\n\t(No symbol) [0x00007FF70507A211]\n\tGetHandleVerifier [0x00007FF7055194AD+3301629]\n\tGetHandleVerifier [0x00007FF7055636D3+3605283]\n\tGetHandleVerifier [0x00007FF705559450+3563680]\n\tGetHandleVerifier [0x00007FF7052B4326+790390]\n\t(No symbol) [0x00007FF70518750F]\n\t(No symbol) [0x00007FF705183404]\n\t(No symbol) [0x00007FF705183592]\n\t(No symbol) [0x00007FF705172F9F]\n\tBaseThreadInitThunk [0x00007FFBDF257344+20]\n\tRtlUserThreadStart [0x00007FFBE06A26B1+33]\n"
     ]
    }
   ],
   "source": [
    "click_button(\"retry_another_address\")\n",
    "\n",
    "write_box(\"ASF_comune_residenza\", payload[\"living_town\"], suggestion=True)\n",
    "write_box(\"ASF_indirizzo\",payload[\"address\"])\n",
    "write_box(\"ASF_civico\",payload[\"civic_number\"])\n",
    "select_box_by_index(\"ASF_assi_provenienza\", 2)\n",
    "select_box_by_index(\"ASF_classe_merito\", 2)\n",
    "booelan_check_box(\"ASF_conducente_check\", payload[\"unsuspended_license\"])\n",
    "select_box_by_index(\"ASF_eta_conducente_minore\", 10)\n",
    "write_box(\"ASF_email\", payload[\"email\"])\n",
    "write_box(\"ASF_telefono\", payload[\"phone\"])\n",
    "click_button(\"link_privacy_auth\")\n",
    "click_button(\"pulsanteAvanti\")"
   ]
  },
  {
   "cell_type": "markdown",
   "metadata": {},
   "source": [
    "# Preventivi"
   ]
  },
  {
   "cell_type": "code",
   "execution_count": null,
   "metadata": {},
   "outputs": [],
   "source": [
    "time.sleep(25)"
   ]
  },
  {
   "cell_type": "code",
   "execution_count": null,
   "metadata": {},
   "outputs": [],
   "source": [
    "driver.get(driver.current_url)"
   ]
  },
  {
   "cell_type": "code",
   "execution_count": null,
   "metadata": {},
   "outputs": [],
   "source": [
    "html_content = driver.page_source\n",
    "\n",
    "# Use Beautiful Soup to parse the HTML\n",
    "soup = BeautifulSoup(html_content, 'html.parser')\n",
    "\n",
    "# Find the element with the specified class name\n",
    "soup = soup.find(class_=\"_1rf45hm8x lw2wjx0\")"
   ]
  },
  {
   "cell_type": "code",
   "execution_count": null,
   "metadata": {},
   "outputs": [],
   "source": [
    "targets = soup.findAll(class_=\"_1rf45hm8x lw2wjx0\")"
   ]
  },
  {
   "cell_type": "code",
   "execution_count": null,
   "metadata": {},
   "outputs": [],
   "source": [
    "preventivi = []\n",
    "for preventivo in targets:\n",
    "    text = preventivo.text.split(':')\n",
    "    text = text[1:len(text)//2+1]\n",
    "    prezzo = text[0].split('Compagnia')[0]\n",
    "    if prezzo.split('€')[1] != '':\n",
    "        prezzo = prezzo.split('€')[1] + '€'\n",
    "    info_preventivo = {\n",
    "        'Prezzo Annuo': prezzo,\n",
    "        'Compagnia': text[1].split('Caratteristiche')[0],\n",
    "        # 'Caratteristiche': text[2].split('Massimale')[0],\n",
    "        # 'Massimale RC': text[3].split('Guida')[0]\n",
    "    }\n",
    "    preventivi.append(info_preventivo)\n",
    "\n",
    "\n",
    "    \n"
   ]
  },
  {
   "cell_type": "code",
   "execution_count": null,
   "metadata": {},
   "outputs": [],
   "source": [
    "preventivi\n"
   ]
  }
 ],
 "metadata": {
  "kernelspec": {
   "display_name": ".venv",
   "language": "python",
   "name": "python3"
  },
  "language_info": {
   "codemirror_mode": {
    "name": "ipython",
    "version": 3
   },
   "file_extension": ".py",
   "mimetype": "text/x-python",
   "name": "python",
   "nbconvert_exporter": "python",
   "pygments_lexer": "ipython3",
   "version": "3.10.6"
  }
 },
 "nbformat": 4,
 "nbformat_minor": 2
}
