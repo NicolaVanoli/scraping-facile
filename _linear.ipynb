{
 "cells": [
  {
   "cell_type": "code",
   "execution_count": 152,
   "metadata": {},
   "outputs": [],
   "source": [
    "from selenium import webdriver\n",
    "from selenium.webdriver.common.keys import Keys\n",
    "from selenium.webdriver.chrome.options import Options\n",
    "from bs4 import BeautifulSoup\n",
    "import time\n",
    "from selenium import webdriver\n",
    "from selenium.webdriver.common.keys import Keys\n",
    "from selenium.webdriver.chrome.options import Options\n",
    "from selenium.webdriver.support.ui import WebDriverWait\n",
    "from selenium.webdriver.support import expected_conditions as EC\n",
    "from selenium.webdriver.common.by import By\n",
    "import time\n",
    "\n",
    "# URL of the page\n",
    "url = \"https://www.linear.it\"\n",
    "\n",
    "# Set up the Chrome driver (you need to download the ChromeDriver executable)\n",
    "options = Options()\n",
    "\n",
    "# options.add_argument(\"--headless\")\n",
    "options.add_argument(\"--disable-logging\")\n",
    "\n",
    "# Create a new instance of the Chrome driver\n",
    "driver = webdriver.Chrome(options=options)\n",
    "\n",
    "# Open the URL in the browser\n",
    "driver.get(url)"
   ]
  },
  {
   "cell_type": "code",
   "execution_count": 153,
   "metadata": {},
   "outputs": [
    {
     "name": "stdout",
     "output_type": "stream",
     "text": [
      "Targa input found: <selenium.webdriver.remote.webelement.WebElement (session=\"7053cad85ec948cfd7cda54aa87c3b6a\", element=\"4E93B7C6DD7CD152500F456324A1734A_element_79\")>\n",
      "Birth date input found: <selenium.webdriver.remote.webelement.WebElement (session=\"7053cad85ec948cfd7cda54aa87c3b6a\", element=\"4E93B7C6DD7CD152500F456324A1734A_element_81\")>\n"
     ]
    }
   ],
   "source": [
    "# Find the 'targa' input element by aria-label using CSS selector\n",
    "targa_input = driver.find_element(\"css selector\", 'input[aria-label=\"targa\"]')\n",
    "print('Targa input found:', targa_input)\n",
    "\n",
    "# Clear any existing value in the 'targa' input field\n",
    "targa_input.clear()\n",
    "\n",
    "# Enter a value into the 'targa' input field\n",
    "targa_input.send_keys('FW085TZ')  # Replace with the actual value you want to submit\n",
    "\n",
    "# Find the 'birth-date' input element by aria-label using CSS selector\n",
    "birth_date_input = driver.find_element(\"css selector\", 'input[aria-label=\"dt_nascita_propr\"]')\n",
    "print('Birth date input found:', birth_date_input)\n",
    "\n",
    "# Clear any existing value in the 'birth-date' input field\n",
    "birth_date_input.clear()\n",
    "\n",
    "# Enter a value into the 'birth-date' input field\n",
    "birth_date_input.send_keys('07/07/1960')  # Replace with the actual value you want to submit\n",
    "\n",
    "# Find the button with the id 'scopri il prezzo' and click it\n",
    "fai_preventivo = driver.find_element(\"id\", \"FaiPreventivo\")\n",
    "fai_preventivo.click()"
   ]
  },
  {
   "cell_type": "code",
   "execution_count": 89,
   "metadata": {},
   "outputs": [
    {
     "name": "stdout",
     "output_type": "stream",
     "text": [
      "Page Title: Linear - Dati polizza\n"
     ]
    }
   ],
   "source": [
    "page_source = driver.page_source\n",
    "\n",
    "# Use BeautifulSoup to parse the page source\n",
    "soup = BeautifulSoup(page_source, 'html.parser')\n",
    "\n",
    "# Now you can extract data from the soup object using BeautifulSoup methods\n",
    "# For example, printing the title of the page\n",
    "print(\"Page Title:\", soup.title.text)"
   ]
  },
  {
   "cell_type": "code",
   "execution_count": 160,
   "metadata": {},
   "outputs": [],
   "source": [
    "address_input = driver.find_element(\"id\", \"Address_Address\")\n",
    "address_input.clear()\n",
    "address_input.send_keys('Salita San Pancrazio 17')"
   ]
  },
  {
   "cell_type": "code",
   "execution_count": 161,
   "metadata": {},
   "outputs": [],
   "source": [
    "WebDriverWait(driver, 10).until(\n",
    "        EC.presence_of_element_located((By.ID, \"Address_Address\"))\n",
    "    )\n",
    "suggestion = driver.find_element(By.CLASS_NAME, \"address-suggestion-item\")\n"
   ]
  },
  {
   "cell_type": "code",
   "execution_count": 164,
   "metadata": {},
   "outputs": [
    {
     "data": {
      "text/plain": [
       "<selenium.webdriver.remote.webelement.WebElement (session=\"7053cad85ec948cfd7cda54aa87c3b6a\", element=\"5ED49169DE13E093FCAD2AED499A08A4_element_127\")>"
      ]
     },
     "execution_count": 164,
     "metadata": {},
     "output_type": "execute_result"
    }
   ],
   "source": [
    "WebDriverWait(driver, 10).until(\n",
    "        EC.presence_of_element_located((By.CLASS_NAME, \"address-suggestion-item\"))\n",
    "    )\n",
    "\n"
   ]
  },
  {
   "cell_type": "code",
   "execution_count": 165,
   "metadata": {},
   "outputs": [
    {
     "ename": "StaleElementReferenceException",
     "evalue": "Message: stale element reference: stale element not found\n  (Session info: chrome=119.0.6045.160); For documentation on this error, please visit: https://www.selenium.dev/documentation/webdriver/troubleshooting/errors#stale-element-reference-exception\nStacktrace:\n\tGetHandleVerifier [0x00007FF65CCF82B2+55298]\n\t(No symbol) [0x00007FF65CC65E02]\n\t(No symbol) [0x00007FF65CB205AB]\n\t(No symbol) [0x00007FF65CB2509C]\n\t(No symbol) [0x00007FF65CB26FDF]\n\t(No symbol) [0x00007FF65CB270D0]\n\t(No symbol) [0x00007FF65CB63265]\n\t(No symbol) [0x00007FF65CB58586]\n\t(No symbol) [0x00007FF65CB820AA]\n\t(No symbol) [0x00007FF65CB580CF]\n\t(No symbol) [0x00007FF65CB822C0]\n\t(No symbol) [0x00007FF65CB9AAA4]\n\t(No symbol) [0x00007FF65CB81E83]\n\t(No symbol) [0x00007FF65CB5670A]\n\t(No symbol) [0x00007FF65CB57964]\n\tGetHandleVerifier [0x00007FF65D070AAB+3694587]\n\tGetHandleVerifier [0x00007FF65D0C728E+4048862]\n\tGetHandleVerifier [0x00007FF65D0BF173+4015811]\n\tGetHandleVerifier [0x00007FF65CD947D6+695590]\n\t(No symbol) [0x00007FF65CC70CE8]\n\t(No symbol) [0x00007FF65CC6CF34]\n\t(No symbol) [0x00007FF65CC6D062]\n\t(No symbol) [0x00007FF65CC5D3A3]\n\tBaseThreadInitThunk [0x00007FF958E87344+20]\n\tRtlUserThreadStart [0x00007FF95AB626B1+33]\n",
     "output_type": "error",
     "traceback": [
      "\u001b[1;31m---------------------------------------------------------------------------\u001b[0m",
      "\u001b[1;31mStaleElementReferenceException\u001b[0m            Traceback (most recent call last)",
      "\u001b[1;32mc:\\Users\\nicol\\Desktop\\Personal\\scraping-facile\\test.ipynb Cell 7\u001b[0m line \u001b[0;36m1\n\u001b[1;32m----> <a href='vscode-notebook-cell:/c%3A/Users/nicol/Desktop/Personal/scraping-facile/test.ipynb#X23sZmlsZQ%3D%3D?line=0'>1</a>\u001b[0m suggestion\u001b[39m.\u001b[39;49mclick()\n",
      "File \u001b[1;32mc:\\Users\\nicol\\Desktop\\Personal\\scraping-facile\\.venv\\lib\\site-packages\\selenium\\webdriver\\remote\\webelement.py:93\u001b[0m, in \u001b[0;36mWebElement.click\u001b[1;34m(self)\u001b[0m\n\u001b[0;32m     91\u001b[0m \u001b[39mdef\u001b[39;00m \u001b[39mclick\u001b[39m(\u001b[39mself\u001b[39m) \u001b[39m-\u001b[39m\u001b[39m>\u001b[39m \u001b[39mNone\u001b[39;00m:\n\u001b[0;32m     92\u001b[0m \u001b[39m    \u001b[39m\u001b[39m\"\"\"Clicks the element.\"\"\"\u001b[39;00m\n\u001b[1;32m---> 93\u001b[0m     \u001b[39mself\u001b[39;49m\u001b[39m.\u001b[39;49m_execute(Command\u001b[39m.\u001b[39;49mCLICK_ELEMENT)\n",
      "File \u001b[1;32mc:\\Users\\nicol\\Desktop\\Personal\\scraping-facile\\.venv\\lib\\site-packages\\selenium\\webdriver\\remote\\webelement.py:394\u001b[0m, in \u001b[0;36mWebElement._execute\u001b[1;34m(self, command, params)\u001b[0m\n\u001b[0;32m    392\u001b[0m     params \u001b[39m=\u001b[39m {}\n\u001b[0;32m    393\u001b[0m params[\u001b[39m\"\u001b[39m\u001b[39mid\u001b[39m\u001b[39m\"\u001b[39m] \u001b[39m=\u001b[39m \u001b[39mself\u001b[39m\u001b[39m.\u001b[39m_id\n\u001b[1;32m--> 394\u001b[0m \u001b[39mreturn\u001b[39;00m \u001b[39mself\u001b[39;49m\u001b[39m.\u001b[39;49m_parent\u001b[39m.\u001b[39;49mexecute(command, params)\n",
      "File \u001b[1;32mc:\\Users\\nicol\\Desktop\\Personal\\scraping-facile\\.venv\\lib\\site-packages\\selenium\\webdriver\\remote\\webdriver.py:347\u001b[0m, in \u001b[0;36mWebDriver.execute\u001b[1;34m(self, driver_command, params)\u001b[0m\n\u001b[0;32m    345\u001b[0m response \u001b[39m=\u001b[39m \u001b[39mself\u001b[39m\u001b[39m.\u001b[39mcommand_executor\u001b[39m.\u001b[39mexecute(driver_command, params)\n\u001b[0;32m    346\u001b[0m \u001b[39mif\u001b[39;00m response:\n\u001b[1;32m--> 347\u001b[0m     \u001b[39mself\u001b[39;49m\u001b[39m.\u001b[39;49merror_handler\u001b[39m.\u001b[39;49mcheck_response(response)\n\u001b[0;32m    348\u001b[0m     response[\u001b[39m\"\u001b[39m\u001b[39mvalue\u001b[39m\u001b[39m\"\u001b[39m] \u001b[39m=\u001b[39m \u001b[39mself\u001b[39m\u001b[39m.\u001b[39m_unwrap_value(response\u001b[39m.\u001b[39mget(\u001b[39m\"\u001b[39m\u001b[39mvalue\u001b[39m\u001b[39m\"\u001b[39m, \u001b[39mNone\u001b[39;00m))\n\u001b[0;32m    349\u001b[0m     \u001b[39mreturn\u001b[39;00m response\n",
      "File \u001b[1;32mc:\\Users\\nicol\\Desktop\\Personal\\scraping-facile\\.venv\\lib\\site-packages\\selenium\\webdriver\\remote\\errorhandler.py:229\u001b[0m, in \u001b[0;36mErrorHandler.check_response\u001b[1;34m(self, response)\u001b[0m\n\u001b[0;32m    227\u001b[0m         alert_text \u001b[39m=\u001b[39m value[\u001b[39m\"\u001b[39m\u001b[39malert\u001b[39m\u001b[39m\"\u001b[39m]\u001b[39m.\u001b[39mget(\u001b[39m\"\u001b[39m\u001b[39mtext\u001b[39m\u001b[39m\"\u001b[39m)\n\u001b[0;32m    228\u001b[0m     \u001b[39mraise\u001b[39;00m exception_class(message, screen, stacktrace, alert_text)  \u001b[39m# type: ignore[call-arg]  # mypy is not smart enough here\u001b[39;00m\n\u001b[1;32m--> 229\u001b[0m \u001b[39mraise\u001b[39;00m exception_class(message, screen, stacktrace)\n",
      "\u001b[1;31mStaleElementReferenceException\u001b[0m: Message: stale element reference: stale element not found\n  (Session info: chrome=119.0.6045.160); For documentation on this error, please visit: https://www.selenium.dev/documentation/webdriver/troubleshooting/errors#stale-element-reference-exception\nStacktrace:\n\tGetHandleVerifier [0x00007FF65CCF82B2+55298]\n\t(No symbol) [0x00007FF65CC65E02]\n\t(No symbol) [0x00007FF65CB205AB]\n\t(No symbol) [0x00007FF65CB2509C]\n\t(No symbol) [0x00007FF65CB26FDF]\n\t(No symbol) [0x00007FF65CB270D0]\n\t(No symbol) [0x00007FF65CB63265]\n\t(No symbol) [0x00007FF65CB58586]\n\t(No symbol) [0x00007FF65CB820AA]\n\t(No symbol) [0x00007FF65CB580CF]\n\t(No symbol) [0x00007FF65CB822C0]\n\t(No symbol) [0x00007FF65CB9AAA4]\n\t(No symbol) [0x00007FF65CB81E83]\n\t(No symbol) [0x00007FF65CB5670A]\n\t(No symbol) [0x00007FF65CB57964]\n\tGetHandleVerifier [0x00007FF65D070AAB+3694587]\n\tGetHandleVerifier [0x00007FF65D0C728E+4048862]\n\tGetHandleVerifier [0x00007FF65D0BF173+4015811]\n\tGetHandleVerifier [0x00007FF65CD947D6+695590]\n\t(No symbol) [0x00007FF65CC70CE8]\n\t(No symbol) [0x00007FF65CC6CF34]\n\t(No symbol) [0x00007FF65CC6D062]\n\t(No symbol) [0x00007FF65CC5D3A3]\n\tBaseThreadInitThunk [0x00007FF958E87344+20]\n\tRtlUserThreadStart [0x00007FF95AB626B1+33]\n"
     ]
    }
   ],
   "source": [
    "suggestion.click()"
   ]
  },
  {
   "cell_type": "code",
   "execution_count": 151,
   "metadata": {},
   "outputs": [
    {
     "ename": "ElementClickInterceptedException",
     "evalue": "Message: element click intercepted: Element <button class=\"btn btn-green\" disabled=\"disabled\">...</button> is not clickable at point (307, 508). Other element would receive the click: <div class=\"col-xs-12 col-sm-6 button-container\">...</div>\n  (Session info: chrome=119.0.6045.160)\nStacktrace:\n\tGetHandleVerifier [0x00007FF65CCF82B2+55298]\n\t(No symbol) [0x00007FF65CC65E02]\n\t(No symbol) [0x00007FF65CB205AB]\n\t(No symbol) [0x00007FF65CB67A77]\n\t(No symbol) [0x00007FF65CB65E39]\n\t(No symbol) [0x00007FF65CB63C08]\n\t(No symbol) [0x00007FF65CB62C8A]\n\t(No symbol) [0x00007FF65CB587BF]\n\t(No symbol) [0x00007FF65CB820AA]\n\t(No symbol) [0x00007FF65CB580CF]\n\t(No symbol) [0x00007FF65CB822C0]\n\t(No symbol) [0x00007FF65CB9AAA4]\n\t(No symbol) [0x00007FF65CB81E83]\n\t(No symbol) [0x00007FF65CB5670A]\n\t(No symbol) [0x00007FF65CB57964]\n\tGetHandleVerifier [0x00007FF65D070AAB+3694587]\n\tGetHandleVerifier [0x00007FF65D0C728E+4048862]\n\tGetHandleVerifier [0x00007FF65D0BF173+4015811]\n\tGetHandleVerifier [0x00007FF65CD947D6+695590]\n\t(No symbol) [0x00007FF65CC70CE8]\n\t(No symbol) [0x00007FF65CC6CF34]\n\t(No symbol) [0x00007FF65CC6D062]\n\t(No symbol) [0x00007FF65CC5D3A3]\n\tBaseThreadInitThunk [0x00007FF958E87344+20]\n\tRtlUserThreadStart [0x00007FF95AB626B1+33]\n",
     "output_type": "error",
     "traceback": [
      "\u001b[1;31m---------------------------------------------------------------------------\u001b[0m",
      "\u001b[1;31mElementClickInterceptedException\u001b[0m          Traceback (most recent call last)",
      "\u001b[1;32mc:\\Users\\nicol\\Desktop\\Personal\\scraping-facile\\test.ipynb Cell 8\u001b[0m line \u001b[0;36m2\n\u001b[0;32m      <a href='vscode-notebook-cell:/c%3A/Users/nicol/Desktop/Personal/scraping-facile/test.ipynb#X14sZmlsZQ%3D%3D?line=0'>1</a>\u001b[0m button \u001b[39m=\u001b[39m driver\u001b[39m.\u001b[39mfind_element(By\u001b[39m.\u001b[39mCLASS_NAME, \u001b[39m\"\u001b[39m\u001b[39mbtn-green\u001b[39m\u001b[39m\"\u001b[39m)\n\u001b[1;32m----> <a href='vscode-notebook-cell:/c%3A/Users/nicol/Desktop/Personal/scraping-facile/test.ipynb#X14sZmlsZQ%3D%3D?line=1'>2</a>\u001b[0m button\u001b[39m.\u001b[39;49mclick()\n",
      "File \u001b[1;32mc:\\Users\\nicol\\Desktop\\Personal\\scraping-facile\\.venv\\lib\\site-packages\\selenium\\webdriver\\remote\\webelement.py:93\u001b[0m, in \u001b[0;36mWebElement.click\u001b[1;34m(self)\u001b[0m\n\u001b[0;32m     91\u001b[0m \u001b[39mdef\u001b[39;00m \u001b[39mclick\u001b[39m(\u001b[39mself\u001b[39m) \u001b[39m-\u001b[39m\u001b[39m>\u001b[39m \u001b[39mNone\u001b[39;00m:\n\u001b[0;32m     92\u001b[0m \u001b[39m    \u001b[39m\u001b[39m\"\"\"Clicks the element.\"\"\"\u001b[39;00m\n\u001b[1;32m---> 93\u001b[0m     \u001b[39mself\u001b[39;49m\u001b[39m.\u001b[39;49m_execute(Command\u001b[39m.\u001b[39;49mCLICK_ELEMENT)\n",
      "File \u001b[1;32mc:\\Users\\nicol\\Desktop\\Personal\\scraping-facile\\.venv\\lib\\site-packages\\selenium\\webdriver\\remote\\webelement.py:394\u001b[0m, in \u001b[0;36mWebElement._execute\u001b[1;34m(self, command, params)\u001b[0m\n\u001b[0;32m    392\u001b[0m     params \u001b[39m=\u001b[39m {}\n\u001b[0;32m    393\u001b[0m params[\u001b[39m\"\u001b[39m\u001b[39mid\u001b[39m\u001b[39m\"\u001b[39m] \u001b[39m=\u001b[39m \u001b[39mself\u001b[39m\u001b[39m.\u001b[39m_id\n\u001b[1;32m--> 394\u001b[0m \u001b[39mreturn\u001b[39;00m \u001b[39mself\u001b[39;49m\u001b[39m.\u001b[39;49m_parent\u001b[39m.\u001b[39;49mexecute(command, params)\n",
      "File \u001b[1;32mc:\\Users\\nicol\\Desktop\\Personal\\scraping-facile\\.venv\\lib\\site-packages\\selenium\\webdriver\\remote\\webdriver.py:347\u001b[0m, in \u001b[0;36mWebDriver.execute\u001b[1;34m(self, driver_command, params)\u001b[0m\n\u001b[0;32m    345\u001b[0m response \u001b[39m=\u001b[39m \u001b[39mself\u001b[39m\u001b[39m.\u001b[39mcommand_executor\u001b[39m.\u001b[39mexecute(driver_command, params)\n\u001b[0;32m    346\u001b[0m \u001b[39mif\u001b[39;00m response:\n\u001b[1;32m--> 347\u001b[0m     \u001b[39mself\u001b[39;49m\u001b[39m.\u001b[39;49merror_handler\u001b[39m.\u001b[39;49mcheck_response(response)\n\u001b[0;32m    348\u001b[0m     response[\u001b[39m\"\u001b[39m\u001b[39mvalue\u001b[39m\u001b[39m\"\u001b[39m] \u001b[39m=\u001b[39m \u001b[39mself\u001b[39m\u001b[39m.\u001b[39m_unwrap_value(response\u001b[39m.\u001b[39mget(\u001b[39m\"\u001b[39m\u001b[39mvalue\u001b[39m\u001b[39m\"\u001b[39m, \u001b[39mNone\u001b[39;00m))\n\u001b[0;32m    349\u001b[0m     \u001b[39mreturn\u001b[39;00m response\n",
      "File \u001b[1;32mc:\\Users\\nicol\\Desktop\\Personal\\scraping-facile\\.venv\\lib\\site-packages\\selenium\\webdriver\\remote\\errorhandler.py:229\u001b[0m, in \u001b[0;36mErrorHandler.check_response\u001b[1;34m(self, response)\u001b[0m\n\u001b[0;32m    227\u001b[0m         alert_text \u001b[39m=\u001b[39m value[\u001b[39m\"\u001b[39m\u001b[39malert\u001b[39m\u001b[39m\"\u001b[39m]\u001b[39m.\u001b[39mget(\u001b[39m\"\u001b[39m\u001b[39mtext\u001b[39m\u001b[39m\"\u001b[39m)\n\u001b[0;32m    228\u001b[0m     \u001b[39mraise\u001b[39;00m exception_class(message, screen, stacktrace, alert_text)  \u001b[39m# type: ignore[call-arg]  # mypy is not smart enough here\u001b[39;00m\n\u001b[1;32m--> 229\u001b[0m \u001b[39mraise\u001b[39;00m exception_class(message, screen, stacktrace)\n",
      "\u001b[1;31mElementClickInterceptedException\u001b[0m: Message: element click intercepted: Element <button class=\"btn btn-green\" disabled=\"disabled\">...</button> is not clickable at point (307, 508). Other element would receive the click: <div class=\"col-xs-12 col-sm-6 button-container\">...</div>\n  (Session info: chrome=119.0.6045.160)\nStacktrace:\n\tGetHandleVerifier [0x00007FF65CCF82B2+55298]\n\t(No symbol) [0x00007FF65CC65E02]\n\t(No symbol) [0x00007FF65CB205AB]\n\t(No symbol) [0x00007FF65CB67A77]\n\t(No symbol) [0x00007FF65CB65E39]\n\t(No symbol) [0x00007FF65CB63C08]\n\t(No symbol) [0x00007FF65CB62C8A]\n\t(No symbol) [0x00007FF65CB587BF]\n\t(No symbol) [0x00007FF65CB820AA]\n\t(No symbol) [0x00007FF65CB580CF]\n\t(No symbol) [0x00007FF65CB822C0]\n\t(No symbol) [0x00007FF65CB9AAA4]\n\t(No symbol) [0x00007FF65CB81E83]\n\t(No symbol) [0x00007FF65CB5670A]\n\t(No symbol) [0x00007FF65CB57964]\n\tGetHandleVerifier [0x00007FF65D070AAB+3694587]\n\tGetHandleVerifier [0x00007FF65D0C728E+4048862]\n\tGetHandleVerifier [0x00007FF65D0BF173+4015811]\n\tGetHandleVerifier [0x00007FF65CD947D6+695590]\n\t(No symbol) [0x00007FF65CC70CE8]\n\t(No symbol) [0x00007FF65CC6CF34]\n\t(No symbol) [0x00007FF65CC6D062]\n\t(No symbol) [0x00007FF65CC5D3A3]\n\tBaseThreadInitThunk [0x00007FF958E87344+20]\n\tRtlUserThreadStart [0x00007FF95AB626B1+33]\n"
     ]
    }
   ],
   "source": [
    "button = driver.find_element(By.CLASS_NAME, \"btn-green\")\n",
    "button.click()\n"
   ]
  },
  {
   "cell_type": "code",
   "execution_count": 86,
   "metadata": {},
   "outputs": [],
   "source": [
    "\n"
   ]
  },
  {
   "cell_type": "code",
   "execution_count": null,
   "metadata": {},
   "outputs": [],
   "source": []
  }
 ],
 "metadata": {
  "kernelspec": {
   "display_name": ".venv",
   "language": "python",
   "name": "python3"
  },
  "language_info": {
   "codemirror_mode": {
    "name": "ipython",
    "version": 3
   },
   "file_extension": ".py",
   "mimetype": "text/x-python",
   "name": "python",
   "nbconvert_exporter": "python",
   "pygments_lexer": "ipython3",
   "version": "3.10.6"
  }
 },
 "nbformat": 4,
 "nbformat_minor": 2
}
