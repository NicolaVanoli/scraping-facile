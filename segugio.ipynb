{
 "cells": [
  {
   "cell_type": "code",
   "execution_count": 1,
   "metadata": {},
   "outputs": [],
   "source": [
    "from selenium import webdriver\n",
    "from selenium.webdriver.common.keys import Keys\n",
    "from selenium.webdriver.chrome.options import Options\n",
    "from bs4 import BeautifulSoup\n",
    "import time\n",
    "from selenium import webdriver\n",
    "from selenium.webdriver.common.keys import Keys\n",
    "from selenium.webdriver.chrome.options import Options\n",
    "from selenium.webdriver.support.ui import WebDriverWait\n",
    "from selenium.webdriver.support import expected_conditions as EC\n",
    "from selenium.webdriver.common.by import By\n",
    "import time\n",
    "from selenium.webdriver.support.ui import Select\n",
    "# URL of the page\n",
    "url = \"https://assicurazioni.segugio.it/assicurazione-auto/preventivo1.html\"\n",
    "# url = \"http://www.facile.it\"\n",
    "# Set up the Chrome driver (you need to download the ChromeDriver executable)\n",
    "options = Options()\n",
    "\n",
    "# options.add_argument(\"--headless\")\n",
    "options.add_argument(\"--disable-logging\")\n",
    "options.add_argument('--allow-running-insecure-content')\n",
    "\n",
    "# Create a new instance of the Chrome driver\n",
    "driver = webdriver.Chrome(options=options)\n",
    "# Open the URL in the browser\n",
    "driver.get(url)"
   ]
  },
  {
   "cell_type": "code",
   "execution_count": 2,
   "metadata": {},
   "outputs": [],
   "source": [
    "cookie_button = WebDriverWait(driver, 10).until(\n",
    "    EC.element_to_be_clickable((By.CLASS_NAME, \"iubenda-cs-accept-btn\"))\n",
    ")\n",
    "\n",
    "# Click the button\n",
    "cookie_button.click()"
   ]
  },
  {
   "cell_type": "code",
   "execution_count": 3,
   "metadata": {},
   "outputs": [],
   "source": [
    "element = WebDriverWait(driver, 10).until(\n",
    "    EC.element_to_be_clickable((By.CLASS_NAME, \"mat-form-field\"))\n",
    ")"
   ]
  },
  {
   "cell_type": "code",
   "execution_count": 5,
   "metadata": {},
   "outputs": [],
   "source": [
    "element.click()"
   ]
  },
  {
   "cell_type": "code",
   "execution_count": 8,
   "metadata": {},
   "outputs": [],
   "source": [
    "targa = WebDriverWait(driver, 10).until(\n",
    "    EC.presence_of_element_located((By.NAME, \"targa\"))\n",
    ")\n"
   ]
  },
  {
   "cell_type": "code",
   "execution_count": 9,
   "metadata": {},
   "outputs": [],
   "source": [
    "targa.click()"
   ]
  },
  {
   "cell_type": "code",
   "execution_count": 10,
   "metadata": {},
   "outputs": [
    {
     "ename": "ElementNotInteractableException",
     "evalue": "Message: element not interactable\n  (Session info: chrome=119.0.6045.160)\nStacktrace:\n\tGetHandleVerifier [0x00007FF7C24E82B2+55298]\n\t(No symbol) [0x00007FF7C2455E02]\n\t(No symbol) [0x00007FF7C231045D]\n\t(No symbol) [0x00007FF7C234CA37]\n\t(No symbol) [0x00007FF7C234BD82]\n\t(No symbol) [0x00007FF7C23720AA]\n\t(No symbol) [0x00007FF7C23480CF]\n\t(No symbol) [0x00007FF7C23722C0]\n\t(No symbol) [0x00007FF7C238AAA4]\n\t(No symbol) [0x00007FF7C2371E83]\n\t(No symbol) [0x00007FF7C234670A]\n\t(No symbol) [0x00007FF7C2347964]\n\tGetHandleVerifier [0x00007FF7C2860AAB+3694587]\n\tGetHandleVerifier [0x00007FF7C28B728E+4048862]\n\tGetHandleVerifier [0x00007FF7C28AF173+4015811]\n\tGetHandleVerifier [0x00007FF7C25847D6+695590]\n\t(No symbol) [0x00007FF7C2460CE8]\n\t(No symbol) [0x00007FF7C245CF34]\n\t(No symbol) [0x00007FF7C245D062]\n\t(No symbol) [0x00007FF7C244D3A3]\n\tBaseThreadInitThunk [0x00007FFAB8BC7344+20]\n\tRtlUserThreadStart [0x00007FFABA0026B1+33]\n",
     "output_type": "error",
     "traceback": [
      "\u001b[1;31m---------------------------------------------------------------------------\u001b[0m",
      "\u001b[1;31mElementNotInteractableException\u001b[0m           Traceback (most recent call last)",
      "\u001b[1;32mc:\\Users\\nicol\\Desktop\\Personal\\scraping-facile\\segugio.ipynb Cell 7\u001b[0m line \u001b[0;36m1\n\u001b[1;32m----> <a href='vscode-notebook-cell:/c%3A/Users/nicol/Desktop/Personal/scraping-facile/segugio.ipynb#W5sZmlsZQ%3D%3D?line=0'>1</a>\u001b[0m targa\u001b[39m.\u001b[39;49msend_keys(\u001b[39m123\u001b[39;49m)\n",
      "File \u001b[1;32mc:\\Users\\nicol\\Desktop\\Personal\\scraping-facile\\.venv\\lib\\site-packages\\selenium\\webdriver\\remote\\webelement.py:230\u001b[0m, in \u001b[0;36mWebElement.send_keys\u001b[1;34m(self, *value)\u001b[0m\n\u001b[0;32m    227\u001b[0m             remote_files\u001b[39m.\u001b[39mappend(\u001b[39mself\u001b[39m\u001b[39m.\u001b[39m_upload(file))\n\u001b[0;32m    228\u001b[0m         value \u001b[39m=\u001b[39m \u001b[39m\"\u001b[39m\u001b[39m\\n\u001b[39;00m\u001b[39m\"\u001b[39m\u001b[39m.\u001b[39mjoin(remote_files)\n\u001b[1;32m--> 230\u001b[0m \u001b[39mself\u001b[39;49m\u001b[39m.\u001b[39;49m_execute(\n\u001b[0;32m    231\u001b[0m     Command\u001b[39m.\u001b[39;49mSEND_KEYS_TO_ELEMENT, {\u001b[39m\"\u001b[39;49m\u001b[39mtext\u001b[39;49m\u001b[39m\"\u001b[39;49m: \u001b[39m\"\u001b[39;49m\u001b[39m\"\u001b[39;49m\u001b[39m.\u001b[39;49mjoin(keys_to_typing(value)), \u001b[39m\"\u001b[39;49m\u001b[39mvalue\u001b[39;49m\u001b[39m\"\u001b[39;49m: keys_to_typing(value)}\n\u001b[0;32m    232\u001b[0m )\n",
      "File \u001b[1;32mc:\\Users\\nicol\\Desktop\\Personal\\scraping-facile\\.venv\\lib\\site-packages\\selenium\\webdriver\\remote\\webelement.py:394\u001b[0m, in \u001b[0;36mWebElement._execute\u001b[1;34m(self, command, params)\u001b[0m\n\u001b[0;32m    392\u001b[0m     params \u001b[39m=\u001b[39m {}\n\u001b[0;32m    393\u001b[0m params[\u001b[39m\"\u001b[39m\u001b[39mid\u001b[39m\u001b[39m\"\u001b[39m] \u001b[39m=\u001b[39m \u001b[39mself\u001b[39m\u001b[39m.\u001b[39m_id\n\u001b[1;32m--> 394\u001b[0m \u001b[39mreturn\u001b[39;00m \u001b[39mself\u001b[39;49m\u001b[39m.\u001b[39;49m_parent\u001b[39m.\u001b[39;49mexecute(command, params)\n",
      "File \u001b[1;32mc:\\Users\\nicol\\Desktop\\Personal\\scraping-facile\\.venv\\lib\\site-packages\\selenium\\webdriver\\remote\\webdriver.py:347\u001b[0m, in \u001b[0;36mWebDriver.execute\u001b[1;34m(self, driver_command, params)\u001b[0m\n\u001b[0;32m    345\u001b[0m response \u001b[39m=\u001b[39m \u001b[39mself\u001b[39m\u001b[39m.\u001b[39mcommand_executor\u001b[39m.\u001b[39mexecute(driver_command, params)\n\u001b[0;32m    346\u001b[0m \u001b[39mif\u001b[39;00m response:\n\u001b[1;32m--> 347\u001b[0m     \u001b[39mself\u001b[39;49m\u001b[39m.\u001b[39;49merror_handler\u001b[39m.\u001b[39;49mcheck_response(response)\n\u001b[0;32m    348\u001b[0m     response[\u001b[39m\"\u001b[39m\u001b[39mvalue\u001b[39m\u001b[39m\"\u001b[39m] \u001b[39m=\u001b[39m \u001b[39mself\u001b[39m\u001b[39m.\u001b[39m_unwrap_value(response\u001b[39m.\u001b[39mget(\u001b[39m\"\u001b[39m\u001b[39mvalue\u001b[39m\u001b[39m\"\u001b[39m, \u001b[39mNone\u001b[39;00m))\n\u001b[0;32m    349\u001b[0m     \u001b[39mreturn\u001b[39;00m response\n",
      "File \u001b[1;32mc:\\Users\\nicol\\Desktop\\Personal\\scraping-facile\\.venv\\lib\\site-packages\\selenium\\webdriver\\remote\\errorhandler.py:229\u001b[0m, in \u001b[0;36mErrorHandler.check_response\u001b[1;34m(self, response)\u001b[0m\n\u001b[0;32m    227\u001b[0m         alert_text \u001b[39m=\u001b[39m value[\u001b[39m\"\u001b[39m\u001b[39malert\u001b[39m\u001b[39m\"\u001b[39m]\u001b[39m.\u001b[39mget(\u001b[39m\"\u001b[39m\u001b[39mtext\u001b[39m\u001b[39m\"\u001b[39m)\n\u001b[0;32m    228\u001b[0m     \u001b[39mraise\u001b[39;00m exception_class(message, screen, stacktrace, alert_text)  \u001b[39m# type: ignore[call-arg]  # mypy is not smart enough here\u001b[39;00m\n\u001b[1;32m--> 229\u001b[0m \u001b[39mraise\u001b[39;00m exception_class(message, screen, stacktrace)\n",
      "\u001b[1;31mElementNotInteractableException\u001b[0m: Message: element not interactable\n  (Session info: chrome=119.0.6045.160)\nStacktrace:\n\tGetHandleVerifier [0x00007FF7C24E82B2+55298]\n\t(No symbol) [0x00007FF7C2455E02]\n\t(No symbol) [0x00007FF7C231045D]\n\t(No symbol) [0x00007FF7C234CA37]\n\t(No symbol) [0x00007FF7C234BD82]\n\t(No symbol) [0x00007FF7C23720AA]\n\t(No symbol) [0x00007FF7C23480CF]\n\t(No symbol) [0x00007FF7C23722C0]\n\t(No symbol) [0x00007FF7C238AAA4]\n\t(No symbol) [0x00007FF7C2371E83]\n\t(No symbol) [0x00007FF7C234670A]\n\t(No symbol) [0x00007FF7C2347964]\n\tGetHandleVerifier [0x00007FF7C2860AAB+3694587]\n\tGetHandleVerifier [0x00007FF7C28B728E+4048862]\n\tGetHandleVerifier [0x00007FF7C28AF173+4015811]\n\tGetHandleVerifier [0x00007FF7C25847D6+695590]\n\t(No symbol) [0x00007FF7C2460CE8]\n\t(No symbol) [0x00007FF7C245CF34]\n\t(No symbol) [0x00007FF7C245D062]\n\t(No symbol) [0x00007FF7C244D3A3]\n\tBaseThreadInitThunk [0x00007FFAB8BC7344+20]\n\tRtlUserThreadStart [0x00007FFABA0026B1+33]\n"
     ]
    }
   ],
   "source": [
    "targa.send_keys(123)"
   ]
  },
  {
   "cell_type": "code",
   "execution_count": 11,
   "metadata": {},
   "outputs": [],
   "source": [
    "birth_town = WebDriverWait(driver, 10).until(\n",
    "    EC.presence_of_element_located((By.ID, \"ASF_comune_nascita\"))\n",
    ")\n",
    "birth_town.clear()\n",
    "\n",
    "# Type the new date \"07/07/1960\" into the input field\n",
    "birth_town.send_keys(\"Brescia\")"
   ]
  },
  {
   "cell_type": "code",
   "execution_count": 12,
   "metadata": {},
   "outputs": [],
   "source": [
    "suggestions = WebDriverWait(driver, 10).until(\n",
    "    EC.presence_of_all_elements_located((By.CSS_SELECTOR, \".autocomplete-suggestions div\"))\n",
    ")\n"
   ]
  },
  {
   "cell_type": "code",
   "execution_count": 13,
   "metadata": {},
   "outputs": [],
   "source": [
    "\n",
    "# # Click on the first suggestion\n",
    "# if suggestions:\n",
    "#     first_suggestion = suggestions[0]\n",
    "#     first_suggestion.click()"
   ]
  },
  {
   "cell_type": "code",
   "execution_count": 14,
   "metadata": {},
   "outputs": [],
   "source": [
    "driver.execute_script(\"document.getElementById('ASF_titolostudio').value = 'MD';\")"
   ]
  },
  {
   "cell_type": "code",
   "execution_count": 15,
   "metadata": {},
   "outputs": [],
   "source": [
    "driver.execute_script(\"document.getElementById('ASF_professione').value = '7';\")"
   ]
  },
  {
   "cell_type": "code",
   "execution_count": 16,
   "metadata": {},
   "outputs": [],
   "source": [
    "driver.execute_script(\"document.getElementById('pulsanteAvanti').click();\")"
   ]
  },
  {
   "cell_type": "code",
   "execution_count": 7,
   "metadata": {},
   "outputs": [
    {
     "data": {
      "text/plain": [
       "{}"
      ]
     },
     "execution_count": 7,
     "metadata": {},
     "output_type": "execute_result"
    }
   ],
   "source": [
    "headers = {'user-agent': 'Your User Agent String'}\n",
    "driver.execute_cdp_cmd('Network.setExtraHTTPHeaders', {'headers': headers})\n"
   ]
  },
  {
   "cell_type": "code",
   "execution_count": null,
   "metadata": {},
   "outputs": [],
   "source": []
  }
 ],
 "metadata": {
  "kernelspec": {
   "display_name": ".venv",
   "language": "python",
   "name": "python3"
  },
  "language_info": {
   "codemirror_mode": {
    "name": "ipython",
    "version": 3
   },
   "file_extension": ".py",
   "mimetype": "text/x-python",
   "name": "python",
   "nbconvert_exporter": "python",
   "pygments_lexer": "ipython3",
   "version": "3.10.6"
  }
 },
 "nbformat": 4,
 "nbformat_minor": 2
}
